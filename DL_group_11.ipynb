{
  "cells": [
    {
      "cell_type": "code",
      "execution_count": null,
      "metadata": {
        "colab": {
          "base_uri": "https://localhost:8080/"
        },
        "id": "67gBXKEyhBnD",
        "outputId": "83f2d87b-eb82-47eb-bcd4-b579f7a1bc18"
      },
      "outputs": [
        {
          "name": "stdout",
          "output_type": "stream",
          "text": [
            "2023-12-10 16:23:26.157577: I tensorflow/core/platform/cpu_feature_guard.cc:182] This TensorFlow binary is optimized to use available CPU instructions in performance-critical operations.\n",
            "To enable the following instructions: AVX2 FMA, in other operations, rebuild TensorFlow with the appropriate compiler flags.\n",
            "2023-12-10 16:23:27.311564: W tensorflow/compiler/tf2tensorrt/utils/py_utils.cc:38] TF-TRT Warning: Could not find TensorRT\n",
            "Collecting fr-core-news-sm==3.6.0\n",
            "  Downloading https://github.com/explosion/spacy-models/releases/download/fr_core_news_sm-3.6.0/fr_core_news_sm-3.6.0-py3-none-any.whl (16.3 MB)\n",
            "\u001b[2K     \u001b[90m━━━━━━━━━━━━━━━━━━━━━━━━━━━━━━━━━━━━━━━━\u001b[0m \u001b[32m16.3/16.3 MB\u001b[0m \u001b[31m71.8 MB/s\u001b[0m eta \u001b[36m0:00:00\u001b[0m\n",
            "\u001b[?25hRequirement already satisfied: spacy<3.7.0,>=3.6.0 in /usr/local/lib/python3.10/dist-packages (from fr-core-news-sm==3.6.0) (3.6.1)\n",
            "Requirement already satisfied: spacy-legacy<3.1.0,>=3.0.11 in /usr/local/lib/python3.10/dist-packages (from spacy<3.7.0,>=3.6.0->fr-core-news-sm==3.6.0) (3.0.12)\n",
            "Requirement already satisfied: spacy-loggers<2.0.0,>=1.0.0 in /usr/local/lib/python3.10/dist-packages (from spacy<3.7.0,>=3.6.0->fr-core-news-sm==3.6.0) (1.0.5)\n",
            "Requirement already satisfied: murmurhash<1.1.0,>=0.28.0 in /usr/local/lib/python3.10/dist-packages (from spacy<3.7.0,>=3.6.0->fr-core-news-sm==3.6.0) (1.0.10)\n",
            "Requirement already satisfied: cymem<2.1.0,>=2.0.2 in /usr/local/lib/python3.10/dist-packages (from spacy<3.7.0,>=3.6.0->fr-core-news-sm==3.6.0) (2.0.8)\n",
            "Requirement already satisfied: preshed<3.1.0,>=3.0.2 in /usr/local/lib/python3.10/dist-packages (from spacy<3.7.0,>=3.6.0->fr-core-news-sm==3.6.0) (3.0.9)\n",
            "Requirement already satisfied: thinc<8.2.0,>=8.1.8 in /usr/local/lib/python3.10/dist-packages (from spacy<3.7.0,>=3.6.0->fr-core-news-sm==3.6.0) (8.1.12)\n",
            "Requirement already satisfied: wasabi<1.2.0,>=0.9.1 in /usr/local/lib/python3.10/dist-packages (from spacy<3.7.0,>=3.6.0->fr-core-news-sm==3.6.0) (1.1.2)\n",
            "Requirement already satisfied: srsly<3.0.0,>=2.4.3 in /usr/local/lib/python3.10/dist-packages (from spacy<3.7.0,>=3.6.0->fr-core-news-sm==3.6.0) (2.4.8)\n",
            "Requirement already satisfied: catalogue<2.1.0,>=2.0.6 in /usr/local/lib/python3.10/dist-packages (from spacy<3.7.0,>=3.6.0->fr-core-news-sm==3.6.0) (2.0.10)\n",
            "Requirement already satisfied: typer<0.10.0,>=0.3.0 in /usr/local/lib/python3.10/dist-packages (from spacy<3.7.0,>=3.6.0->fr-core-news-sm==3.6.0) (0.9.0)\n",
            "Requirement already satisfied: pathy>=0.10.0 in /usr/local/lib/python3.10/dist-packages (from spacy<3.7.0,>=3.6.0->fr-core-news-sm==3.6.0) (0.10.3)\n",
            "Requirement already satisfied: smart-open<7.0.0,>=5.2.1 in /usr/local/lib/python3.10/dist-packages (from spacy<3.7.0,>=3.6.0->fr-core-news-sm==3.6.0) (6.4.0)\n",
            "Requirement already satisfied: tqdm<5.0.0,>=4.38.0 in /usr/local/lib/python3.10/dist-packages (from spacy<3.7.0,>=3.6.0->fr-core-news-sm==3.6.0) (4.66.1)\n",
            "Requirement already satisfied: numpy>=1.15.0 in /usr/local/lib/python3.10/dist-packages (from spacy<3.7.0,>=3.6.0->fr-core-news-sm==3.6.0) (1.23.5)\n",
            "Requirement already satisfied: requests<3.0.0,>=2.13.0 in /usr/local/lib/python3.10/dist-packages (from spacy<3.7.0,>=3.6.0->fr-core-news-sm==3.6.0) (2.31.0)\n",
            "Requirement already satisfied: pydantic!=1.8,!=1.8.1,<3.0.0,>=1.7.4 in /usr/local/lib/python3.10/dist-packages (from spacy<3.7.0,>=3.6.0->fr-core-news-sm==3.6.0) (1.10.13)\n",
            "Requirement already satisfied: jinja2 in /usr/local/lib/python3.10/dist-packages (from spacy<3.7.0,>=3.6.0->fr-core-news-sm==3.6.0) (3.1.2)\n",
            "Requirement already satisfied: setuptools in /usr/local/lib/python3.10/dist-packages (from spacy<3.7.0,>=3.6.0->fr-core-news-sm==3.6.0) (67.7.2)\n",
            "Requirement already satisfied: packaging>=20.0 in /usr/local/lib/python3.10/dist-packages (from spacy<3.7.0,>=3.6.0->fr-core-news-sm==3.6.0) (23.2)\n",
            "Requirement already satisfied: langcodes<4.0.0,>=3.2.0 in /usr/local/lib/python3.10/dist-packages (from spacy<3.7.0,>=3.6.0->fr-core-news-sm==3.6.0) (3.3.0)\n",
            "Requirement already satisfied: typing-extensions>=4.2.0 in /usr/local/lib/python3.10/dist-packages (from pydantic!=1.8,!=1.8.1,<3.0.0,>=1.7.4->spacy<3.7.0,>=3.6.0->fr-core-news-sm==3.6.0) (4.5.0)\n",
            "Requirement already satisfied: charset-normalizer<4,>=2 in /usr/local/lib/python3.10/dist-packages (from requests<3.0.0,>=2.13.0->spacy<3.7.0,>=3.6.0->fr-core-news-sm==3.6.0) (3.3.2)\n",
            "Requirement already satisfied: idna<4,>=2.5 in /usr/local/lib/python3.10/dist-packages (from requests<3.0.0,>=2.13.0->spacy<3.7.0,>=3.6.0->fr-core-news-sm==3.6.0) (3.6)\n",
            "Requirement already satisfied: urllib3<3,>=1.21.1 in /usr/local/lib/python3.10/dist-packages (from requests<3.0.0,>=2.13.0->spacy<3.7.0,>=3.6.0->fr-core-news-sm==3.6.0) (2.0.7)\n",
            "Requirement already satisfied: certifi>=2017.4.17 in /usr/local/lib/python3.10/dist-packages (from requests<3.0.0,>=2.13.0->spacy<3.7.0,>=3.6.0->fr-core-news-sm==3.6.0) (2023.11.17)\n",
            "Requirement already satisfied: blis<0.8.0,>=0.7.8 in /usr/local/lib/python3.10/dist-packages (from thinc<8.2.0,>=8.1.8->spacy<3.7.0,>=3.6.0->fr-core-news-sm==3.6.0) (0.7.11)\n",
            "Requirement already satisfied: confection<1.0.0,>=0.0.1 in /usr/local/lib/python3.10/dist-packages (from thinc<8.2.0,>=8.1.8->spacy<3.7.0,>=3.6.0->fr-core-news-sm==3.6.0) (0.1.4)\n",
            "Requirement already satisfied: click<9.0.0,>=7.1.1 in /usr/local/lib/python3.10/dist-packages (from typer<0.10.0,>=0.3.0->spacy<3.7.0,>=3.6.0->fr-core-news-sm==3.6.0) (8.1.7)\n",
            "Requirement already satisfied: MarkupSafe>=2.0 in /usr/local/lib/python3.10/dist-packages (from jinja2->spacy<3.7.0,>=3.6.0->fr-core-news-sm==3.6.0) (2.1.3)\n",
            "Installing collected packages: fr-core-news-sm\n",
            "Successfully installed fr-core-news-sm-3.6.0\n",
            "\u001b[38;5;2m✔ Download and installation successful\u001b[0m\n",
            "You can now load the package via spacy.load('fr_core_news_sm')\n"
          ]
        }
      ],
      "source": [
        "!python -m spacy download fr_core_news_sm"
      ]
    },
    {
      "cell_type": "code",
      "execution_count": 3,
      "metadata": {
        "id": "FP4MTZdsRvNh"
      },
      "outputs": [],
      "source": [
        "import pandas as pd\n",
        "import torch\n",
        "import torch.nn as nn\n",
        "import torch.optim as optim\n",
        "from torch.utils.data import Dataset, DataLoader\n",
        "from torch.nn.utils.rnn import pad_sequence\n",
        "from torchtext.data.utils import get_tokenizer\n",
        "from torchtext.vocab import build_vocab_from_iterator\n",
        "import spacy\n",
        "import random\n",
        "import matplotlib.pyplot as plt\n",
        "from torch.nn import functional as F\n",
        "import math\n",
        "from tqdm import tqdm\n",
        "import seaborn as sns\n",
        "from collections import Counter\n"
      ]
    },
    {
      "cell_type": "markdown",
      "metadata": {
        "id": "hpR6yiSkJWr8"
      },
      "source": [
        "# EDA Analysis"
      ]
    },
    {
      "cell_type": "code",
      "execution_count": null,
      "metadata": {
        "colab": {
          "base_uri": "https://localhost:8080/",
          "height": 442
        },
        "id": "g6ICgoeTKM7a",
        "outputId": "d66951a6-78f9-4bd3-e46c-03f3485d995b"
      },
      "outputs": [
        {
          "data": {
            "image/png": "[encoded data removed]",
            "text/plain": [
              "<Figure size 1200x600 with 4 Axes>"
            ]
          },
          "metadata": {},
          "output_type": "display_data"
        }
      ],
      "source": [
        "data = pd.read_csv(\"eng_-french.csv\")\n",
        "data['English Length'] = data['English words/sentences'].apply(len)\n",
        "data['French Length'] = data['French words/sentences'].apply(len)\n",
        "\n",
        "data['English Word Count'] = data['English words/sentences'].apply(lambda x: len(x.split()))\n",
        "data['French Word Count'] = data['French words/sentences'].apply(lambda x: len(x.split()))\n",
        "\n",
        "plt.figure(figsize=(12, 6))\n",
        "\n",
        "plt.subplot(2, 2, 1)\n",
        "sns.histplot(data['English Length'], kde=True, color='blue')\n",
        "plt.title('Distribution of English Sentence Lengths')\n",
        "\n",
        "plt.subplot(2, 2, 2)\n",
        "sns.histplot(data['French Length'], kde=True, color='red')\n",
        "plt.title('Distribution of French Sentence Lengths')\n",
        "\n",
        "plt.subplot(2, 2, 3)\n",
        "sns.histplot(data['English Word Count'], kde=True, color='blue')\n",
        "plt.title('Distribution of English Word Counts')\n",
        "\n",
        "plt.subplot(2, 2, 4)\n",
        "sns.histplot(data['French Word Count'], kde=True, color='red')\n",
        "plt.title('Distribution of French Word Counts')\n",
        "\n",
        "plt.tight_layout()\n",
        "plt.show()\n"
      ]
    },
    {
      "cell_type": "code",
      "execution_count": null,
      "metadata": {
        "colab": {
          "base_uri": "https://localhost:8080/",
          "height": 564
        },
        "id": "-FYChV6JL11N",
        "outputId": "91dbc759-bdfe-41c5-caec-c72873a3d9bd"
      },
      "outputs": [
        {
          "data": {
            "image/png": "[encoded data removed]",
            "text/plain": [
              "<Figure size 1000x600 with 1 Axes>"
            ]
          },
          "metadata": {},
          "output_type": "display_data"
        }
      ],
      "source": [
        "english_total, english_unique = count_words(data['English words/sentences'])\n",
        "french_total, french_unique = count_words(data['French words/sentences'])\n",
        "\n",
        "word_counts_df = pd.DataFrame({\n",
        "    'Category': ['Total Words', 'Unique Words'],\n",
        "    'English': [english_total, english_unique],\n",
        "    'French': [french_total, french_unique]\n",
        "})\n",
        "\n",
        "word_counts_melted = word_counts_df.melt(id_vars='Category', var_name='Language', value_name='Count')\n",
        "\n",
        "plt.figure(figsize=(10, 6))\n",
        "ax = sns.barplot(x='Category', y='Count', hue='Language', data=word_counts_melted, palette='Set2')\n",
        "\n",
        "for p in ax.patches:\n",
        "    ax.annotate(f'{int(p.get_height())}', (p.get_x() + p.get_width() / 2., p.get_height()),\n",
        "                ha='center', va='center', fontsize=10, color='black', xytext=(0, 5),\n",
        "                textcoords='offset points')\n",
        "\n",
        "plt.title('Comparison of Total and Unique Word Counts in English and French')\n",
        "plt.show()\n"
      ]
    },
    {
      "cell_type": "code",
      "execution_count": null,
      "metadata": {
        "colab": {
          "base_uri": "https://localhost:8080/",
          "height": 381
        },
        "id": "tN4MAOdEMHQ9",
        "outputId": "4da466ca-6f41-40f9-f73d-7014f4d9c21c"
      },
      "outputs": [
        {
          "data": {
            "image/png": "[encoded data removed]",
            "text/plain": [
              "<Figure size 1400x600 with 2 Axes>"
            ]
          },
          "metadata": {},
          "output_type": "display_data"
        }
      ],
      "source": [
        "english_word_counts = Counter(' '.join(data['English words/sentences']).split())\n",
        "french_word_counts = Counter(' '.join(data['French words/sentences']).split())\n",
        "\n",
        "english_common_words = english_word_counts.most_common(10)\n",
        "french_common_words = french_word_counts.most_common(10)\n",
        "\n",
        "english_words, english_counts = zip(*english_common_words)\n",
        "french_words, french_counts = zip(*french_common_words)\n",
        "\n",
        "plt.figure(figsize=(14, 6))\n",
        "\n",
        "plt.subplot(1, 2, 1)\n",
        "sns.barplot(x=list(english_words), y=list(english_counts), palette=\"Blues_d\")\n",
        "plt.title('Top 10 Most Frequent Words in English')\n",
        "plt.xticks(rotation=45)\n",
        "\n",
        "plt.subplot(1, 2, 2)\n",
        "sns.barplot(x=list(french_words), y=list(french_counts), palette=\"Reds_d\")\n",
        "plt.title('Top 10 Most Frequent Words in French')\n",
        "plt.xticks(rotation=45)\n",
        "\n",
        "plt.tight_layout()\n",
        "plt.show()\n",
        "\n"
      ]
    },
    {
      "cell_type": "code",
      "execution_count": null,
      "metadata": {
        "colab": {
          "base_uri": "https://localhost:8080/",
          "height": 370
        },
        "id": "R6_qL20SM9gq",
        "outputId": "d1f91571-b132-4768-cd44-e16c872e54fe"
      },
      "outputs": [
        {
          "data": {
            "image/png": "[encoded data removed]",
            "text/plain": [
              "<Figure size 1200x500 with 2 Axes>"
            ]
          },
          "metadata": {},
          "output_type": "display_data"
        }
      ],
      "source": [
        "\n",
        "def categorize_length(length):\n",
        "    if length < 50:\n",
        "        return 'Short'\n",
        "    elif length < 100:\n",
        "        return 'Medium'\n",
        "    else:\n",
        "        return 'Long'\n",
        "\n",
        "def get_start_end_words(sentences):\n",
        "    start_words = [sentence.split()[0] for sentence in sentences if sentence]\n",
        "    end_words = [sentence.split()[-1] for sentence in sentences if sentence]\n",
        "    return Counter(start_words), Counter(end_words)\n",
        "\n",
        "data['English Length Category'] = data['English Length'].apply(categorize_length)\n",
        "data['French Length Category'] = data['French Length'].apply(categorize_length)\n",
        "\n",
        "plt.figure(figsize=(12, 5))\n",
        "\n",
        "plt.subplot(1, 2, 1)\n",
        "sns.countplot(x=data['English Length Category'], order=['Short', 'Medium', 'Long'], palette=\"Blues\")\n",
        "plt.title('English Sentence Length Categories')\n",
        "\n",
        "plt.subplot(1, 2, 2)\n",
        "sns.countplot(x=data['French Length Category'], order=['Short', 'Medium', 'Long'], palette=\"Reds\")\n",
        "plt.title('French Sentence Length Categories')\n",
        "\n",
        "plt.tight_layout()\n",
        "plt.show()\n",
        "\n"
      ]
    },
    {
      "cell_type": "code",
      "execution_count": null,
      "metadata": {
        "id": "gKHJGbFNhCXC"
      },
      "outputs": [],
      "source": [
        "\n",
        "spacy_eng = spacy.load('en_core_web_sm')\n",
        "spacy_fr = spacy.load('fr_core_news_sm')\n",
        "\n",
        "def tokenize_eng(text):\n",
        "    return [tok.text for tok in spacy_eng.tokenizer(text)]\n",
        "\n",
        "def tokenize_fr(text):\n",
        "    return [tok.text for tok in spacy_fr.tokenizer(text)]\n",
        "\n",
        "class CustomTextDataset(Dataset):\n",
        "    def __init__(self, filename, src_tokenizer, trg_tokenizer):\n",
        "        self.data = pd.read_csv(filename)\n",
        "        self.src_tokenizer = src_tokenizer\n",
        "        self.trg_tokenizer = trg_tokenizer\n",
        "\n",
        "    def __len__(self):\n",
        "        return len(self.data)\n",
        "\n",
        "    def __getitem__(self, idx):\n",
        "        src = self.data.iloc[idx, 0]\n",
        "        trg = self.data.iloc[idx, 1]\n",
        "        return src, trg\n",
        "\n",
        "\n",
        "file_path = 'eng_-french.csv'\n",
        "SRC = get_tokenizer(tokenize_eng)\n",
        "TRG = get_tokenizer(tokenize_fr)\n",
        "dataset = CustomTextDataset(file_path, SRC, TRG)\n",
        "\n",
        "\n",
        "def yield_tokens(data_iter, tokenizer):\n",
        "    for _, data in enumerate(data_iter):\n",
        "        yield tokenizer(data[0])\n",
        "\n",
        "SRC_VOCAB = build_vocab_from_iterator(yield_tokens(dataset, SRC), specials=['<unk>', '<pad>', '<bos>', '<eos>'])\n",
        "TRG_VOCAB = build_vocab_from_iterator(yield_tokens(dataset, TRG), specials=['<unk>', '<pad>', '<bos>', '<eos>'])\n",
        "SRC_VOCAB.set_default_index(SRC_VOCAB['<unk>'])\n",
        "TRG_VOCAB.set_default_index(TRG_VOCAB['<unk>'])\n",
        "\n",
        "\n",
        "text_transform = {\n",
        "    'src': lambda x: [SRC_VOCAB['<bos>']] + [SRC_VOCAB[token] for token in SRC(x)] + [SRC_VOCAB['<eos>']],\n",
        "    'trg': lambda x: [TRG_VOCAB['<bos>']] + [TRG_VOCAB[token] for token in TRG(x)] + [TRG_VOCAB['<eos>']]\n",
        "}\n",
        "\n",
        "\n",
        "def collate_batch(batch):\n",
        "    src_list, trg_list = [], []\n",
        "    for src_sample, trg_sample in batch:\n",
        "        src_list.append(torch.tensor(text_transform['src'](src_sample), dtype=torch.int64))\n",
        "        trg_list.append(torch.tensor(text_transform['trg'](trg_sample), dtype=torch.int64))\n",
        "    src = pad_sequence(src_list, padding_value=SRC_VOCAB['<pad>'])\n",
        "    trg = pad_sequence(trg_list, padding_value=TRG_VOCAB['<pad>'])\n",
        "    return src, trg\n",
        "\n",
        "train_size = int(0.8 * len(dataset))\n",
        "test_size = len(dataset) - train_size\n",
        "train_dataset, test_dataset = torch.utils.data.random_split(dataset, [train_size, test_size])\n",
        "\n",
        "\n",
        "BATCH_SIZE = 128\n",
        "train_loader = DataLoader(train_dataset, batch_size=BATCH_SIZE, collate_fn=collate_batch, shuffle=True)\n",
        "test_loader = DataLoader(test_dataset, batch_size=BATCH_SIZE, collate_fn=collate_batch, shuffle=True)\n",
        "\n",
        "src_vocab_size = len(SRC_VOCAB)\n",
        "trg_vocab_size = len(TRG_VOCAB)\n"
      ]
    },
    {
      "cell_type": "code",
      "execution_count": null,
      "metadata": {
        "id": "roCEDsz6hF3M"
      },
      "outputs": [],
      "source": [
        "\n",
        "class Encoder(nn.Module):\n",
        "    def __init__(self, input_dim, emb_dim, enc_hid_dim, dec_hid_dim, dropout):\n",
        "        super().__init__()\n",
        "        self.embedding = nn.Embedding(input_dim, emb_dim)\n",
        "        self.rnn = nn.LSTM(emb_dim, enc_hid_dim, bidirectional=True)\n",
        "        self.fc = nn.Linear(enc_hid_dim * 2, dec_hid_dim)\n",
        "        self.dropout = nn.Dropout(dropout)\n",
        "\n",
        "    def forward(self, src):\n",
        "        embedded = self.dropout(self.embedding(src))\n",
        "        outputs, (hidden, cell) = self.rnn(embedded)\n",
        "        hidden = torch.tanh(self.fc(torch.cat((hidden[-2,:,:], hidden[-1,:,:]), dim=1)))\n",
        "        return outputs, hidden\n",
        "\n",
        "\n",
        "class Attention(nn.Module):\n",
        "    def __init__(self, enc_hid_dim, dec_hid_dim):\n",
        "        super().__init__()\n",
        "        self.attn = nn.Linear((enc_hid_dim * 2) + dec_hid_dim, dec_hid_dim)\n",
        "        self.v = nn.Linear(dec_hid_dim, 1, bias=False)\n",
        "\n",
        "    def forward(self, hidden, encoder_outputs):\n",
        "        batch_size = encoder_outputs.shape[1]\n",
        "        src_len = encoder_outputs.shape[0]\n",
        "\n",
        "        hidden = hidden.unsqueeze(1).repeat(1, src_len, 1)\n",
        "        encoder_outputs = encoder_outputs.permute(1, 0, 2)\n",
        "\n",
        "        energy = torch.tanh(self.attn(torch.cat((hidden, encoder_outputs), dim=2)))\n",
        "        attention = self.v(energy).squeeze(2)\n",
        "        return F.softmax(attention, dim=1)\n",
        "\n",
        "class Decoder(nn.Module):\n",
        "    def __init__(self, output_dim, emb_dim, enc_hid_dim, dec_hid_dim, dropout, attention):\n",
        "        super().__init__()\n",
        "        self.output_dim = output_dim\n",
        "        self.attention = attention\n",
        "        self.embedding = nn.Embedding(output_dim, emb_dim)\n",
        "        self.rnn = nn.LSTM((enc_hid_dim * 2) + emb_dim, dec_hid_dim)\n",
        "        self.fc_out = nn.Linear((enc_hid_dim * 2) + dec_hid_dim + emb_dim, output_dim)\n",
        "        self.dropout = nn.Dropout(dropout)\n",
        "\n",
        "    def forward(self, input, hidden, encoder_outputs):\n",
        "        input = input.unsqueeze(0)\n",
        "        embedded = self.dropout(self.embedding(input))\n",
        "        a = self.attention(hidden, encoder_outputs).unsqueeze(1)\n",
        "        encoder_outputs = encoder_outputs.permute(1, 0, 2)\n",
        "        weighted = torch.bmm(a, encoder_outputs).permute(1, 0, 2)\n",
        "        rnn_input = torch.cat((embedded, weighted), dim=2)\n",
        "        output, (hidden, cell) = self.rnn(rnn_input, (hidden.unsqueeze(0), torch.zeros_like(hidden.unsqueeze(0))))\n",
        "        embedded = embedded.squeeze(0)\n",
        "        output = output.squeeze(0)\n",
        "        weighted = weighted.squeeze(0)\n",
        "        prediction = self.fc_out(torch.cat((output, weighted, embedded), dim=1))\n",
        "        return prediction, hidden.squeeze(0)\n",
        "\n",
        "\n",
        "class Seq2Seq(nn.Module):\n",
        "    def __init__(self, encoder, decoder, device):\n",
        "        super().__init__()\n",
        "        self.encoder = encoder\n",
        "        self.decoder = decoder\n",
        "        self.device = device\n",
        "\n",
        "    def forward(self, src, trg, teacher_forcing_ratio=0.5):\n",
        "        trg_len = trg.shape[0]\n",
        "        batch_size = trg.shape[1]\n",
        "        trg_vocab_size = self.decoder.output_dim\n",
        "        outputs = torch.zeros(trg_len, batch_size, trg_vocab_size).to(self.device)\n",
        "        encoder_outputs, hidden = self.encoder(src)\n",
        "        input = trg[0,:]\n",
        "        for t in range(1, trg_len):\n",
        "            output, hidden = self.decoder(input, hidden, encoder_outputs)\n",
        "            outputs[t] = output\n",
        "            teacher_force = random.random() < teacher_forcing_ratio\n",
        "            top1 = output.argmax(1)\n",
        "            input = trg[t] if teacher_force else top1\n",
        "        return outputs\n"
      ]
    },
    {
      "cell_type": "code",
      "execution_count": null,
      "metadata": {
        "id": "h253DUayh-c6"
      },
      "outputs": [],
      "source": [
        "\n",
        "def calculate_accuracy(preds, y):\n",
        "    max_preds = preds.argmax(dim=1, keepdim=True)\n",
        "    non_pad_elements = (y != TRG_VOCAB['<pad>']).nonzero()\n",
        "    correct = max_preds[non_pad_elements].squeeze(1).eq(y[non_pad_elements]).sum()\n",
        "    return correct.item() / len(y[non_pad_elements])\n",
        "\n",
        "def train(model, iterator, optimizer, criterion, clip):\n",
        "    model.train()\n",
        "    epoch_loss = 0\n",
        "    epoch_acc = 0\n",
        "    for _, batch in enumerate(iterator):\n",
        "        src, trg = batch\n",
        "        optimizer.zero_grad()\n",
        "        output = model(src, trg)\n",
        "        output_dim = output.shape[-1]\n",
        "        output = output[1:].view(-1, output_dim)\n",
        "        trg = trg[1:].view(-1)\n",
        "        loss = criterion(output, trg)\n",
        "        acc = calculate_accuracy(output, trg)\n",
        "        loss.backward()\n",
        "        torch.nn.utils.clip_grad_norm_(model.parameters(), clip)\n",
        "        optimizer.step()\n",
        "        epoch_loss += loss.item()\n",
        "        epoch_acc += acc\n",
        "    return epoch_loss / len(iterator), epoch_acc / len(iterator)\n",
        "\n",
        "def evaluate(model, iterator, criterion):\n",
        "    model.eval()\n",
        "    epoch_loss = 0\n",
        "    epoch_acc = 0\n",
        "    with torch.no_grad():\n",
        "        for _, batch in enumerate(iterator):\n",
        "            src, trg = batch\n",
        "            output = model(src, trg, 0)\n",
        "            output_dim = output.shape[-1]\n",
        "            output = output[1:].view(-1, output_dim)\n",
        "            trg = trg[1:].view(-1)\n",
        "            loss = criterion(output, trg)\n",
        "            acc = calculate_accuracy(output, trg)\n",
        "            epoch_loss += loss.item()\n",
        "            epoch_acc += acc\n",
        "    return epoch_loss / len(iterator), epoch_acc / len(iterator)\n"
      ]
    },
    {
      "cell_type": "code",
      "execution_count": null,
      "metadata": {
        "id": "v9I7cj7TiDWB"
      },
      "outputs": [],
      "source": [
        "\n",
        "INPUT_DIM = src_vocab_size\n",
        "OUTPUT_DIM = trg_vocab_size\n",
        "ENC_EMB_DIM = 256\n",
        "DEC_EMB_DIM = 256\n",
        "ENC_HID_DIM = 512\n",
        "DEC_HID_DIM = 512\n",
        "ENC_DROPOUT = 0.5\n",
        "DEC_DROPOUT = 0.5\n",
        "LEARNING_RATE = 0.01\n",
        "\n",
        "attn = Attention(ENC_HID_DIM, DEC_HID_DIM)\n",
        "enc = Encoder(INPUT_DIM, ENC_EMB_DIM, ENC_HID_DIM, DEC_HID_DIM, ENC_DROPOUT)\n",
        "dec = Decoder(OUTPUT_DIM, DEC_EMB_DIM, ENC_HID_DIM, DEC_HID_DIM, DEC_DROPOUT, attn)\n",
        "\n",
        "device = torch.device('cuda' if torch.cuda.is_available() else 'cpu')\n",
        "model11 = Seq2Seq(enc, dec, device).to(device)\n",
        "\n",
        "\n",
        "criterion11 = nn.CrossEntropyLoss(ignore_index=TRG_VOCAB['<pad>'])\n",
        "optimizer11 = optim.Adam(model11.parameters(), lr=LEARNING_RATE, weight_decay=1e-5)\n",
        "\n",
        "\n"
      ]
    },
    {
      "cell_type": "code",
      "execution_count": 1,
      "metadata": {
        "colab": {
          "base_uri": "https://localhost:8080/"
        },
        "id": "_zdiuShKiIfq",
        "outputId": "36ec0515-c5d9-49b6-a3c7-c7e3366c9c3b"
      },
      "outputs": [
        {
          "output_type": "stream",
          "name": "stdout",
          "text": [
            "Epoch: 1, Train Loss: 1.012, Train Acc: 76.08%, Val. Loss: 0.864, Val. Acc: 75.27%\n",
            "Epoch: 2, Train Loss: 0.723, Train Acc: 79.68%, Val. Loss: 0.845, Val. Acc: 74.75%\n",
            "Epoch: 3, Train Loss: 0.678, Train Acc: 80.25%, Val. Loss: 0.763, Val. Acc: 75.87%\n",
            "Epoch: 4, Train Loss: 0.653, Train Acc: 80.64%, Val. Loss: 0.762, Val. Acc: 75.75%\n",
            "Epoch: 5, Train Loss: 0.635, Train Acc: 80.93%, Val. Loss: 0.773, Val. Acc: 75.27%\n",
            "Epoch: 6, Train Loss: 0.623, Train Acc: 81.10%, Val. Loss: 0.746, Val. Acc: 76.58%\n",
            "Epoch: 7, Train Loss: 0.614, Train Acc: 81.29%, Val. Loss: 0.730, Val. Acc: 76.50%\n",
            "Epoch: 8, Train Loss: 0.608, Train Acc: 81.37%, Val. Loss: 0.717, Val. Acc: 77.17%\n",
            "Epoch: 9, Train Loss: 0.600, Train Acc: 81.50%, Val. Loss: 0.719, Val. Acc: 76.67%\n",
            "Epoch: 10, Train Loss: 0.596, Train Acc: 81.60%, Val. Loss: 0.737, Val. Acc: 76.43%\n",
            "Epoch: 11, Train Loss: 0.596, Train Acc: 81.58%, Val. Loss: 0.736, Val. Acc: 76.76%\n",
            "Epoch: 12, Train Loss: 0.590, Train Acc: 81.69%, Val. Loss: 0.724, Val. Acc: 76.07%\n",
            "Epoch: 13, Train Loss: 0.584, Train Acc: 81.85%, Val. Loss: 0.723, Val. Acc: 76.72%\n",
            "Epoch: 14, Train Loss: 0.580, Train Acc: 82.02%, Val. Loss: 0.718, Val. Acc: 76.83%\n",
            "Epoch: 15, Train Loss: 0.580, Train Acc: 81.93%, Val. Loss: 0.709, Val. Acc: 77.35%\n",
            "Epoch: 16, Train Loss: 0.576, Train Acc: 81.99%, Val. Loss: 0.725, Val. Acc: 76.68%\n",
            "Epoch: 17, Train Loss: 0.573, Train Acc: 82.11%, Val. Loss: 0.732, Val. Acc: 76.74%\n",
            "Epoch: 18, Train Loss: 0.570, Train Acc: 82.15%, Val. Loss: 0.733, Val. Acc: 77.42%\n",
            "Epoch: 19, Train Loss: 0.570, Train Acc: 82.11%, Val. Loss: 0.734, Val. Acc: 76.28%\n",
            "Epoch: 20, Train Loss: 0.572, Train Acc: 82.08%, Val. Loss: 0.705, Val. Acc: 77.15%\n",
            "Epoch: 21, Train Loss: 0.566, Train Acc: 82.20%, Val. Loss: 0.709, Val. Acc: 77.26%\n",
            "Epoch: 22, Train Loss: 0.567, Train Acc: 82.20%, Val. Loss: 0.692, Val. Acc: 77.57%\n",
            "Epoch: 23, Train Loss: 0.566, Train Acc: 82.17%, Val. Loss: 0.719, Val. Acc: 77.12%\n",
            "Epoch: 24, Train Loss: 0.561, Train Acc: 82.33%, Val. Loss: 0.703, Val. Acc: 77.89%\n",
            "Epoch: 25, Train Loss: 0.557, Train Acc: 82.47%, Val. Loss: 0.698, Val. Acc: 78.35%\n",
            "Epoch: 26, Train Loss: 0.553, Train Acc: 82.61%, Val. Loss: 0.692, Val. Acc: 78.82%\n",
            "Epoch: 27, Train Loss: 0.550, Train Acc: 82.74%, Val. Loss: 0.687, Val. Acc: 79.26%\n",
            "Epoch: 28, Train Loss: 0.547, Train Acc: 82.85%, Val. Loss: 0.681, Val. Acc: 79.71%\n",
            "Epoch: 29, Train Loss: 0.544, Train Acc: 82.98%, Val. Loss: 0.676, Val. Acc: 80.23%\n",
            "Epoch: 30, Train Loss: 0.541, Train Acc: 83.10%, Val. Loss: 0.671, Val. Acc: 81.67%\n"
          ]
        }
      ],
      "source": [
        "NUM_EPOCHS = 30\n",
        "CLIP = 1\n",
        "\n",
        "train_losses11 = []\n",
        "test_losses11 = []\n",
        "train_accuracies11 = []\n",
        "test_accuracies11 =[]\n",
        "\n",
        "for epoch in range(NUM_EPOCHS):\n",
        "    train_loss, train_acc = train(model11, train_loader, optimizer11, criterion11, CLIP)\n",
        "    test_loss, test_acc = evaluate(model11, test_loader, criterion11)\n",
        "    train_losses11.append(train_loss)\n",
        "    test_losses11.append(test_loss)\n",
        "    train_accuracies11.append(train_acc)\n",
        "    test_accuracies11.append(test_acc)\n",
        "    print(f'Epoch: {epoch+1:02}, Train Loss: {train_loss:.3f}, Train Acc: {train_acc*100:.2f}%, Val. Loss: {test_loss:.3f}, Val. Acc: {test_acc*100:.2f}%')\n",
        "\n"
      ]
    },
    {
      "cell_type": "code",
      "execution_count": 4,
      "metadata": {
        "id": "nt2PvKsTiChE",
        "colab": {
          "base_uri": "https://localhost:8080/",
          "height": 564
        },
        "outputId": "7d3ef2d0-f1f9-43fb-8f6b-9e93eb5876cc"
      },
      "outputs": [
        {
          "output_type": "display_data",
          "data": {
            "text/plain": [
              "<Figure size 1200x600 with 2 Axes>"
            ],
            "image/png": "[encoded data removed]"
          },
          "metadata": {}
        }
      ],
      "source": [
        "plt.figure(figsize=(12, 6))\n",
        "\n",
        "plt.subplot(1, 2, 1)\n",
        "plt.plot(train_losses11, label='Train Loss')\n",
        "plt.plot(test_losses11, label='Test Loss')\n",
        "plt.xlabel('Epoch')\n",
        "plt.ylabel('Loss')\n",
        "plt.title('Training and Testing Losses')\n",
        "plt.legend()\n",
        "\n",
        "plt.subplot(1, 2, 2)\n",
        "plt.plot(train_accuracies11, label='Train Accuracy')\n",
        "plt.plot(test_accuracies11, label='Test Accuracy')\n",
        "plt.xlabel('Epoch')\n",
        "plt.ylabel('Accuracy')\n",
        "plt.title('Training and Testing Accuracies')\n",
        "plt.legend()\n",
        "\n",
        "plt.show()\n"
      ]
    },
    {
      "cell_type": "code",
      "execution_count": 30,
      "metadata": {
        "id": "tqwA7HeVPJdJ",
        "colab": {
          "base_uri": "https://localhost:8080/"
        },
        "outputId": "ce2ccd16-e5ef-45af-b412-fdc01876493e"
      },
      "outputs": [
        {
          "output_type": "stream",
          "name": "stdout",
          "text": [
            "Test Loss: 0.671, Test Acc: 81.67%\n"
          ]
        }
      ],
      "source": [
        "import torch\n",
        "\n",
        "model11.eval()\n",
        "\n",
        "test_loss11, test_acc11 = evaluate(model11, test_loader, criterion11)\n",
        "print(f'Test Loss: {test_loss11:.3f}, Test Acc: {test_acc11*100:.2f}%')\n",
        "\n"
      ]
    },
    {
      "cell_type": "code",
      "execution_count": null,
      "metadata": {
        "id": "dAT_r19UT9iE"
      },
      "outputs": [],
      "source": []
    },
    {
      "cell_type": "markdown",
      "metadata": {
        "id": "ljg_Vjk7T-os"
      },
      "source": [
        "Bleu score"
      ]
    },
    {
      "cell_type": "code",
      "execution_count": null,
      "metadata": {
        "id": "TXHdt9s_T9nI"
      },
      "outputs": [],
      "source": [
        "from torchtext.data.metrics import bleu_score\n"
      ]
    },
    {
      "cell_type": "code",
      "execution_count": null,
      "metadata": {
        "id": "xetF0r27T9wa"
      },
      "outputs": [],
      "source": [
        "def calculate_bleu(data_loader, model, SRC_VOCAB, TRG_VOCAB, SRC, TRG, device):\n",
        "    targets = []\n",
        "    outputs = []\n",
        "\n",
        "    model.eval()\n",
        "    with torch.no_grad():\n",
        "        for _, batch in enumerate(data_loader):\n",
        "            src, trg = batch\n",
        "            src = src.to(device)\n",
        "            trg = trg.to(device)\n",
        "\n",
        "            output = model(src, trg, 0)\n",
        "\n",
        "            output = output.argmax(2).cpu().numpy()\n",
        "            trg = trg.cpu().numpy()\n",
        "\n",
        "            for i in range(output.shape[1]):\n",
        "                trg_sent = [TRG_VOCAB.lookup_token(token) for token in trg[:, i] if token != TRG_VOCAB['<pad>']]\n",
        "                output_sent = [TRG_VOCAB.lookup_token(token) for token in output[1:, i] if token != TRG_VOCAB['<pad>']]\n",
        "                targets.append([trg_sent])\n",
        "                outputs.append(output_sent)\n",
        "\n",
        "    return bleu_score(outputs, targets)\n"
      ]
    },
    {
      "cell_type": "code",
      "execution_count": 7,
      "metadata": {
        "id": "pAtW8Q2iUHqw",
        "colab": {
          "base_uri": "https://localhost:8080/"
        },
        "outputId": "5316d0da-b201-427b-f7ed-c96285223935"
      },
      "outputs": [
        {
          "output_type": "stream",
          "name": "stdout",
          "text": [
            "BLEU Score:  35.6\n"
          ]
        }
      ],
      "source": [
        "bleu_score = calculate_bleu(test_loader, model11, SRC_VOCAB, TRG_VOCAB, SRC, TRG, device)\n",
        "print(f'BLEU Score: {bleu_score*100:.2f}')\n"
      ]
    },
    {
      "cell_type": "code",
      "execution_count": null,
      "metadata": {
        "id": "SgSr_Th8ot-i"
      },
      "outputs": [],
      "source": []
    },
    {
      "cell_type": "markdown",
      "metadata": {
        "id": "bF_fvFpTkg6p"
      },
      "source": [
        "LSTM Model 2"
      ]
    },
    {
      "cell_type": "code",
      "execution_count": null,
      "metadata": {
        "id": "7EaACZ-sr1q8"
      },
      "outputs": [],
      "source": [
        "\n",
        "class Encoder(nn.Module):\n",
        "    def __init__(self, input_dim, emb_dim, enc_hid_dim, dec_hid_dim, dropout):\n",
        "        super().__init__()\n",
        "        self.embedding = nn.Embedding(input_dim, emb_dim)\n",
        "        self.rnn = nn.LSTM(emb_dim, enc_hid_dim, bidirectional=True)\n",
        "        self.fc = nn.Linear(enc_hid_dim * 2, dec_hid_dim)\n",
        "        self.dropout = nn.Dropout(dropout)\n",
        "\n",
        "    def forward(self, src):\n",
        "        embedded = self.dropout(self.embedding(src))\n",
        "        outputs, (hidden, cell) = self.rnn(embedded)\n",
        "        hidden = torch.tanh(self.fc(torch.cat((hidden[-2,:,:], hidden[-1,:,:]), dim=1)))\n",
        "        return outputs, hidden\n",
        "\n",
        "class Attention(nn.Module):\n",
        "    def __init__(self, enc_hid_dim, dec_hid_dim):\n",
        "        super().__init__()\n",
        "        self.attn = nn.Linear((enc_hid_dim * 2) + dec_hid_dim, dec_hid_dim)\n",
        "        self.v = nn.Linear(dec_hid_dim, 1, bias=False)\n",
        "\n",
        "    def forward(self, hidden, encoder_outputs):\n",
        "        batch_size = encoder_outputs.shape[1]\n",
        "        src_len = encoder_outputs.shape[0]\n",
        "\n",
        "        hidden = hidden.unsqueeze(1).repeat(1, src_len, 1)\n",
        "        encoder_outputs = encoder_outputs.permute(1, 0, 2)\n",
        "\n",
        "        energy = torch.tanh(self.attn(torch.cat((hidden, encoder_outputs), dim=2)))\n",
        "        attention = self.v(energy).squeeze(2)\n",
        "        return F.softmax(attention, dim=1)\n",
        "\n",
        "class Decoder(nn.Module):\n",
        "    def __init__(self, output_dim, emb_dim, enc_hid_dim, dec_hid_dim, dropout, attention):\n",
        "        super().__init__()\n",
        "        self.output_dim = output_dim\n",
        "        self.attention = attention\n",
        "        self.embedding = nn.Embedding(output_dim, emb_dim)\n",
        "        self.rnn = nn.LSTM((enc_hid_dim * 2) + emb_dim, dec_hid_dim)\n",
        "        self.fc_out = nn.Linear((enc_hid_dim * 2) + dec_hid_dim + emb_dim, output_dim)\n",
        "        self.dropout = nn.Dropout(dropout)\n",
        "\n",
        "    def forward(self, input, hidden, encoder_outputs):\n",
        "        input = input.unsqueeze(0)\n",
        "        embedded = self.dropout(self.embedding(input))\n",
        "\n",
        "        a = self.attention(hidden, encoder_outputs).unsqueeze(1)\n",
        "        encoder_outputs = encoder_outputs.permute(1, 0, 2)\n",
        "        weighted = torch.bmm(a, encoder_outputs).permute(1, 0, 2)\n",
        "\n",
        "        rnn_input = torch.cat((embedded, weighted), dim=2)\n",
        "        output, (hidden, cell) = self.rnn(rnn_input, (hidden.unsqueeze(0), torch.zeros_like(hidden.unsqueeze(0))))\n",
        "\n",
        "        embedded = embedded.squeeze(0)\n",
        "        output = output.squeeze(0)\n",
        "        weighted = weighted.squeeze(0)\n",
        "\n",
        "        prediction = self.fc_out(torch.cat((output, weighted, embedded), dim=1))\n",
        "\n",
        "        prediction = F.log_softmax(prediction, dim=1)\n",
        "\n",
        "        return prediction, hidden.squeeze(0)\n",
        "\n",
        "class Seq2Seq(nn.Module):\n",
        "    def __init__(self, encoder, decoder, device):\n",
        "        super().__init__()\n",
        "        self.encoder = encoder\n",
        "        self.decoder = decoder\n",
        "        self.device = device\n",
        "\n",
        "    def forward(self, src, trg, teacher_forcing_ratio=0.5):\n",
        "        trg_len = trg.shape[0]\n",
        "        batch_size = trg.shape[1]\n",
        "        trg_vocab_size = self.decoder.output_dim\n",
        "        outputs = torch.zeros(trg_len, batch_size, trg_vocab_size).to(self.device)\n",
        "        encoder_outputs, hidden = self.encoder(src)\n",
        "        input = trg[0,:]\n",
        "        for t in range(1, trg_len):\n",
        "            output, hidden = self.decoder(input, hidden, encoder_outputs)\n",
        "            outputs[t] = output\n",
        "            teacher_force = random.random() < teacher_forcing_ratio\n",
        "            top1 = output.argmax(1)\n",
        "            input = trg[t] if teacher_force else top1\n",
        "        return outputs\n"
      ]
    },
    {
      "cell_type": "code",
      "execution_count": null,
      "metadata": {
        "id": "AKQMPSmmr2aW"
      },
      "outputs": [],
      "source": [
        "\n",
        "def calculate_accuracy(preds, y):\n",
        "    max_preds = preds.argmax(dim=1, keepdim=True)\n",
        "    non_pad_elements = (y != TRG_VOCAB['<pad>']).nonzero()\n",
        "    correct = max_preds[non_pad_elements].squeeze(1).eq(y[non_pad_elements]).sum()\n",
        "    return correct.item() / len(y[non_pad_elements])\n",
        "\n",
        "def train(model, iterator, optimizer, criterion, clip):\n",
        "    model.train()\n",
        "    epoch_loss = 0\n",
        "    epoch_acc = 0\n",
        "    for _, batch in enumerate(iterator):\n",
        "        src, trg = batch\n",
        "        optimizer.zero_grad()\n",
        "        output = model(src, trg)\n",
        "        output_dim = output.shape[-1]\n",
        "        output = output[1:].view(-1, output_dim)\n",
        "        trg = trg[1:].view(-1)\n",
        "        loss = criterion(output, trg)\n",
        "        acc = calculate_accuracy(output, trg)\n",
        "        loss.backward()\n",
        "        torch.nn.utils.clip_grad_norm_(model.parameters(), clip)\n",
        "        optimizer.step()\n",
        "        epoch_loss += loss.item()\n",
        "        epoch_acc += acc\n",
        "    return epoch_loss / len(iterator), epoch_acc / len(iterator)\n",
        "\n",
        "def evaluate(model, iterator, criterion):\n",
        "    model.eval()\n",
        "    epoch_loss = 0\n",
        "    epoch_acc = 0\n",
        "    with torch.no_grad():\n",
        "        for _, batch in enumerate(iterator):\n",
        "            src, trg = batch\n",
        "            output = model(src, trg, 0)\n",
        "            output_dim = output.shape[-1]\n",
        "            output = output[1:].view(-1, output_dim)\n",
        "            trg = trg[1:].view(-1)\n",
        "            loss = criterion(output, trg)\n",
        "            acc = calculate_accuracy(output, trg)\n",
        "            epoch_loss += loss.item()\n",
        "            epoch_acc += acc\n",
        "    return epoch_loss / len(iterator), epoch_acc / len(iterator)\n"
      ]
    },
    {
      "cell_type": "code",
      "execution_count": null,
      "metadata": {
        "id": "V0Sxp9DDGBDI"
      },
      "outputs": [],
      "source": [
        "from torch.optim import AdamW\n",
        "INPUT_DIM = src_vocab_size\n",
        "OUTPUT_DIM = trg_vocab_size\n",
        "ENC_EMB_DIM = 256\n",
        "DEC_EMB_DIM = 256\n",
        "ENC_HID_DIM = 512\n",
        "DEC_HID_DIM = 512\n",
        "ENC_DROPOUT = 0.5\n",
        "DEC_DROPOUT = 0.5\n",
        "LEARNING_RATE = 0.001\n",
        "\n",
        "attn = Attention(ENC_HID_DIM, DEC_HID_DIM)\n",
        "enc = Encoder(INPUT_DIM, ENC_EMB_DIM, ENC_HID_DIM, DEC_HID_DIM, ENC_DROPOUT)\n",
        "dec = Decoder(OUTPUT_DIM, DEC_EMB_DIM, ENC_HID_DIM, DEC_HID_DIM, DEC_DROPOUT, attn)\n",
        "\n",
        "device = torch.device('cuda' if torch.cuda.is_available() else 'cpu')\n",
        "model12 = Seq2Seq(enc, dec, device).to(device)\n",
        "\n",
        "\n",
        "criterion12 = nn.NLLLoss(ignore_index=TRG_VOCAB['<pad>'])\n",
        "optimizer12 = optim.AdamW(model12.parameters(), lr=LEARNING_RATE)\n",
        "\n",
        "\n",
        "\n"
      ]
    },
    {
      "cell_type": "code",
      "execution_count": null,
      "metadata": {
        "colab": {
          "base_uri": "https://localhost:8080/"
        },
        "id": "YoRpXlPxkj26",
        "outputId": "2cbc1cac-1142-4f85-b0eb-7b94223d91e6"
      },
      "outputs": [
        {
          "name": "stdout",
          "output_type": "stream",
          "text": [
            "Epoch: 01, Train Loss: 1.145, Train Acc: 74.68%, Val. Loss: 0.943, Val. Acc: 74.45%\n",
            "Epoch: 02, Train Loss: 0.794, Train Acc: 78.88%, Val. Loss: 0.827, Val. Acc: 75.69%\n",
            "Epoch: 03, Train Loss: 0.704, Train Acc: 80.01%, Val. Loss: 0.770, Val. Acc: 76.37%\n",
            "Epoch: 04, Train Loss: 0.638, Train Acc: 81.10%, Val. Loss: 0.760, Val. Acc: 76.56%\n",
            "Epoch: 05, Train Loss: 0.593, Train Acc: 81.65%, Val. Loss: 0.749, Val. Acc: 76.59%\n",
            "Epoch: 06, Train Loss: 0.561, Train Acc: 82.02%, Val. Loss: 0.773, Val. Acc: 76.20%\n",
            "Epoch: 07, Train Loss: 0.530, Train Acc: 82.51%, Val. Loss: 0.728, Val. Acc: 77.05%\n",
            "Epoch: 08, Train Loss: 0.507, Train Acc: 82.91%, Val. Loss: 0.730, Val. Acc: 77.00%\n",
            "Epoch: 09, Train Loss: 0.486, Train Acc: 83.31%, Val. Loss: 0.734, Val. Acc: 77.26%\n",
            "Epoch: 10, Train Loss: 0.462, Train Acc: 83.96%, Val. Loss: 0.728, Val. Acc: 77.27%\n",
            "Epoch: 11, Train Loss: 0.445, Train Acc: 84.41%, Val. Loss: 0.739, Val. Acc: 77.38%\n",
            "Epoch: 12, Train Loss: 0.432, Train Acc: 84.74%, Val. Loss: 0.738, Val. Acc: 77.20%\n",
            "Epoch: 13, Train Loss: 0.423, Train Acc: 84.88%, Val. Loss: 0.755, Val. Acc: 76.88%\n",
            "Epoch: 14, Train Loss: 0.406, Train Acc: 85.42%, Val. Loss: 0.767, Val. Acc: 77.03%\n",
            "Epoch: 15, Train Loss: 0.393, Train Acc: 85.86%, Val. Loss: 0.762, Val. Acc: 76.98%\n",
            "Epoch: 16, Train Loss: 0.385, Train Acc: 86.08%, Val. Loss: 0.781, Val. Acc: 77.09%\n",
            "Epoch: 17, Train Loss: 0.375, Train Acc: 86.31%, Val. Loss: 0.762, Val. Acc: 77.30%\n",
            "Epoch: 18, Train Loss: 0.363, Train Acc: 86.82%, Val. Loss: 0.784, Val. Acc: 77.24%\n",
            "Epoch: 19, Train Loss: 0.356, Train Acc: 87.00%, Val. Loss: 0.777, Val. Acc: 77.26%\n",
            "Epoch: 20, Train Loss: 0.345, Train Acc: 87.39%, Val. Loss: 0.817, Val. Acc: 77.00%\n",
            "Epoch: 21, Train Loss: 0.340, Train Acc: 87.55%, Val. Loss: 0.811, Val. Acc: 76.98%\n",
            "Epoch: 22, Train Loss: 0.335, Train Acc: 87.61%, Val. Loss: 0.826, Val. Acc: 76.69%\n",
            "Epoch: 23, Train Loss: 0.327, Train Acc: 87.87%, Val. Loss: 0.826, Val. Acc: 77.16%\n",
            "Epoch: 24, Train Loss: 0.319, Train Acc: 88.26%, Val. Loss: 0.818, Val. Acc: 77.20%\n",
            "Epoch: 25, Train Loss: 0.314, Train Acc: 88.36%, Val. Loss: 0.826, Val. Acc: 77.62%\n",
            "Epoch: 26, Train Loss: 0.307, Train Acc: 88.60%, Val. Loss: 0.827, Val. Acc: 77.55%\n",
            "Epoch: 27, Train Loss: 0.300, Train Acc: 88.98%, Val. Loss: 0.849, Val. Acc: 77.42%\n",
            "Epoch: 28, Train Loss: 0.296, Train Acc: 89.06%, Val. Loss: 0.841, Val. Acc: 77.48%\n",
            "Epoch: 29, Train Loss: 0.288, Train Acc: 89.42%, Val. Loss: 0.895, Val. Acc: 76.65%\n",
            "Epoch: 30, Train Loss: 0.284, Train Acc: 89.50%, Val. Loss: 0.881, Val. Acc: 77.40%\n"
          ]
        }
      ],
      "source": [
        "NUM_EPOCHS = 30\n",
        "CLIP = 1\n",
        "\n",
        "train_losses12 = []\n",
        "test_losses12 = []\n",
        "train_accuracies12 = []\n",
        "test_accuracies12 = []\n",
        "for epoch in range(NUM_EPOCHS):\n",
        "    train_loss, train_acc = train(model12, train_loader, optimizer12, criterion12, CLIP)\n",
        "    test_loss, test_acc = evaluate(model12, test_loader, criterion12)\n",
        "    train_losses12.append(train_loss)\n",
        "    test_losses12.append(test_loss)\n",
        "\n",
        "    train_accuracies12.append(train_acc)\n",
        "    test_accuracies12.append(test_acc)\n",
        "    print(f'Epoch: {epoch+1:02}, Train Loss: {train_loss:.3f}, Train Acc: {train_acc*100:.2f}%, Val. Loss: {test_loss:.3f}, Val. Acc: {test_acc*100:.2f}%')\n",
        "\n",
        "\n",
        "\n"
      ]
    },
    {
      "cell_type": "code",
      "execution_count": null,
      "metadata": {
        "colab": {
          "base_uri": "https://localhost:8080/",
          "height": 484
        },
        "id": "2jqtEfM1kj5-",
        "outputId": "8257fa18-8661-43b5-de57-ba94127fe1dc"
      },
      "outputs": [
        {
          "data": {
            "image/png": "[encoded data removed]",
            "text/plain": [
              "<Figure size 1200x600 with 2 Axes>"
            ]
          },
          "metadata": {},
          "output_type": "display_data"
        }
      ],
      "source": [
        "plt.figure(figsize=(12, 6))\n",
        "\n",
        "plt.subplot(1, 2, 1)\n",
        "plt.plot(train_losses12, label='Train Loss')\n",
        "plt.plot(test_losses12, label='Test Loss')\n",
        "plt.xlabel('Epoch')\n",
        "plt.ylabel('Loss')\n",
        "plt.title('Training and Testing Losses')\n",
        "plt.legend()\n",
        "\n",
        "plt.subplot(1, 2, 2)\n",
        "plt.plot(train_accuracies12, label='Train Accuracy')\n",
        "plt.plot(test_accuracies12, label='Test Accuracy')\n",
        "plt.xlabel('Epoch')\n",
        "plt.ylabel('Accuracy')\n",
        "plt.title('Training and Testing Accuracies')\n",
        "plt.legend()\n",
        "\n",
        "plt.show()\n"
      ]
    },
    {
      "cell_type": "code",
      "execution_count": 8,
      "metadata": {
        "colab": {
          "base_uri": "https://localhost:8080/"
        },
        "id": "ub-N49QBkj82",
        "outputId": "59abbf3e-564b-483f-b99c-a040cbdc954a"
      },
      "outputs": [
        {
          "output_type": "stream",
          "name": "stdout",
          "text": [
            "Test Loss: 0.882, Test Acc: 77.40%\n"
          ]
        }
      ],
      "source": [
        "import torch\n",
        "\n",
        "\n",
        "model12.eval()\n",
        "\n",
        "test_loss12, test_acc12 = evaluate(model12, test_loader, criterion12)\n",
        "print(f'Test Loss: {test_loss12:.3f}, Test Acc: {test_acc12*100:.2f}%')\n"
      ]
    },
    {
      "cell_type": "code",
      "execution_count": null,
      "metadata": {
        "id": "Vw2RTDeJkkCN"
      },
      "outputs": [],
      "source": [
        "from torchtext.data.metrics import bleu_score\n"
      ]
    },
    {
      "cell_type": "code",
      "execution_count": null,
      "metadata": {
        "id": "l7wY8cLkkkFK"
      },
      "outputs": [],
      "source": [
        "def calculate_bleu(data_loader, model, SRC_VOCAB, TRG_VOCAB, SRC, TRG, device):\n",
        "    targets = []\n",
        "    outputs = []\n",
        "\n",
        "    model.eval()\n",
        "    with torch.no_grad():\n",
        "        for _, batch in enumerate(data_loader):\n",
        "            src, trg = batch\n",
        "            src = src.to(device)\n",
        "            trg = trg.to(device)\n",
        "\n",
        "            output = model(src, trg, 0)\n",
        "\n",
        "            output = output.argmax(2).cpu().numpy()\n",
        "            trg = trg.cpu().numpy()\n",
        "\n",
        "            for i in range(output.shape[1]):\n",
        "                trg_sent = [TRG_VOCAB.lookup_token(token) for token in trg[:, i] if token != TRG_VOCAB['<pad>']]\n",
        "                output_sent = [TRG_VOCAB.lookup_token(token) for token in output[1:, i] if token != TRG_VOCAB['<pad>']]\n",
        "                targets.append([trg_sent])\n",
        "                outputs.append(output_sent)\n",
        "\n",
        "    return bleu_score(outputs, targets)\n"
      ]
    },
    {
      "cell_type": "code",
      "execution_count": 9,
      "metadata": {
        "colab": {
          "base_uri": "https://localhost:8080/"
        },
        "id": "Jxx3EHv9kkHw",
        "outputId": "bacdc6c8-19e6-408a-f47c-6897d2a57630"
      },
      "outputs": [
        {
          "output_type": "stream",
          "name": "stdout",
          "text": [
            "BLEU Score: 31.34\n"
          ]
        }
      ],
      "source": [
        "bleu_score = calculate_bleu(test_loader, model12, SRC_VOCAB, TRG_VOCAB, SRC, TRG, device)\n",
        "print(f'BLEU Score: {bleu_score*100:.2f}')\n"
      ]
    },
    {
      "cell_type": "markdown",
      "metadata": {
        "id": "Ymrw3P9oGBWL"
      },
      "source": [
        "LSTM Model 3"
      ]
    },
    {
      "cell_type": "code",
      "execution_count": null,
      "metadata": {
        "id": "NuCXEIdPGFId"
      },
      "outputs": [],
      "source": [
        "INPUT_DIM = src_vocab_size\n",
        "OUTPUT_DIM = trg_vocab_size\n",
        "ENC_EMB_DIM = 256\n",
        "DEC_EMB_DIM = 256\n",
        "ENC_HID_DIM = 512\n",
        "DEC_HID_DIM = 512\n",
        "ENC_DROPOUT = 0.5\n",
        "DEC_DROPOUT = 0.5\n",
        "LEARNING_RATE = 0.01\n",
        "\n",
        "attn = Attention(ENC_HID_DIM, DEC_HID_DIM)\n",
        "enc = Encoder(INPUT_DIM, ENC_EMB_DIM, ENC_HID_DIM, DEC_HID_DIM, ENC_DROPOUT)\n",
        "dec = Decoder(OUTPUT_DIM, DEC_EMB_DIM, ENC_HID_DIM, DEC_HID_DIM, DEC_DROPOUT, attn)\n",
        "\n",
        "device = torch.device('cuda' if torch.cuda.is_available() else 'cpu')\n",
        "model13 = Seq2Seq(enc, dec, device).to(device)\n",
        "\n",
        "criterion13 = nn.CrossEntropyLoss(ignore_index=TRG_VOCAB['<pad>'])\n",
        "optimizer13 = optim.RMSprop(model13.parameters(), lr=LEARNING_RATE, weight_decay=1e-5)\n",
        "\n",
        "\n",
        "\n"
      ]
    },
    {
      "cell_type": "code",
      "execution_count": 15,
      "metadata": {
        "colab": {
          "base_uri": "https://localhost:8080/"
        },
        "id": "T_-sJ-LVGFVP",
        "outputId": "0d43828c-421e-4561-f951-89e523db0d20"
      },
      "outputs": [
        {
          "output_type": "stream",
          "name": "stdout",
          "text": [
            "Epoch: 01, Train Loss: 2.896, Train Acc: 66.73%, Val. Loss: 0.994, Val. Acc: 73.39%\n",
            "Epoch: 02, Train Loss: 0.837, Train Acc: 77.25%, Val. Loss: 1.776, Val. Acc: 69.15%\n",
            "Epoch: 03, Train Loss: 0.748, Train Acc: 78.54%, Val. Loss: 0.794, Val. Acc: 75.87%\n",
            "Epoch: 04, Train Loss: 0.686, Train Acc: 79.48%, Val. Loss: 1.160, Val. Acc: 70.64%\n",
            "Epoch: 05, Train Loss: 0.664, Train Acc: 80.10%, Val. Loss: 0.862, Val. Acc: 72.09%\n",
            "Epoch: 06, Train Loss: 0.631, Train Acc: 80.55%, Val. Loss: 0.769, Val. Acc: 75.69%\n",
            "Epoch: 07, Train Loss: 0.614, Train Acc: 80.86%, Val. Loss: 0.758, Val. Acc: 75.58%\n",
            "Epoch: 08, Train Loss: 0.740, Train Acc: 79.75%, Val. Loss: 0.739, Val. Acc: 76.19%\n",
            "Epoch: 09, Train Loss: 0.611, Train Acc: 80.87%, Val. Loss: 0.736, Val. Acc: 76.39%\n",
            "Epoch: 10, Train Loss: 0.590, Train Acc: 81.23%, Val. Loss: 0.717, Val. Acc: 76.89%\n",
            "Epoch: 11, Train Loss: 0.579, Train Acc: 81.55%, Val. Loss: 0.733, Val. Acc: 76.06%\n",
            "Epoch: 12, Train Loss: 0.775, Train Acc: 79.61%, Val. Loss: 0.709, Val. Acc: 77.43%\n",
            "Epoch: 13, Train Loss: 0.574, Train Acc: 81.65%, Val. Loss: 0.715, Val. Acc: 77.40%\n",
            "Epoch: 14, Train Loss: 0.568, Train Acc: 81.89%, Val. Loss: 0.754, Val. Acc: 74.69%\n",
            "Epoch: 15, Train Loss: 0.597, Train Acc: 81.55%, Val. Loss: 0.717, Val. Acc: 76.92%\n",
            "Epoch: 16, Train Loss: 0.559, Train Acc: 82.15%, Val. Loss: 0.727, Val. Acc: 76.01%\n",
            "Epoch: 17, Train Loss: 0.621, Train Acc: 81.62%, Val. Loss: 0.642, Val. Acc: 75.93%\n",
            "Epoch: 18, Train Loss: 0.635, Train Acc: 81.56%, Val. Loss: 0.768, Val. Acc: 74.84%\n",
            "Epoch: 19, Train Loss: 0.552, Train Acc: 82.18%, Val. Loss: 0.723, Val. Acc: 76.94%\n",
            "Epoch: 20, Train Loss: 0.550, Train Acc: 82.31%, Val. Loss: 0.767, Val. Acc: 75.69%\n",
            "Epoch: 21, Train Loss: 0.549, Train Acc: 82.27%, Val. Loss: 0.711, Val. Acc: 76.68%\n",
            "Epoch: 22, Train Loss: 0.540, Train Acc: 82.73%, Val. Loss: 0.706, Val. Acc: 77.35%\n",
            "Epoch: 23, Train Loss: 0.560, Train Acc: 82.12%, Val. Loss: 0.694, Val. Acc: 77.64%\n",
            "Epoch: 24, Train Loss: 0.542, Train Acc: 82.52%, Val. Loss: 0.757, Val. Acc: 74.89%\n",
            "Epoch: 25, Train Loss: 0.537, Train Acc: 82.72%, Val. Loss: 0.717, Val. Acc: 77.17%\n",
            "Epoch: 26, Train Loss: 0.543, Train Acc: 82.48%, Val. Loss: 0.687, Val. Acc: 77.83%\n",
            "Epoch: 27, Train Loss: 0.538, Train Acc: 82.66%, Val. Loss: 0.840, Val. Acc: 73.37%\n",
            "Epoch: 28, Train Loss: 0.875, Train Acc: 80.21%, Val. Loss: 0.698, Val. Acc: 77.60%\n",
            "Epoch: 29, Train Loss: 0.550, Train Acc: 82.48%, Val. Loss: 0.692, Val. Acc: 77.76%\n",
            "Epoch: 30, Train Loss: 0.649, Train Acc: 81.62%, Val. Loss: 0.704, Val. Acc: 77.66%\n"
          ]
        }
      ],
      "source": [
        "NUM_EPOCHS = 30\n",
        "CLIP = 1\n",
        "\n",
        "train_losses13 = []\n",
        "test_losses13 = []\n",
        "train_accuracies13 = []\n",
        "test_accuracies13 = []\n",
        "\n",
        "for epoch in range(NUM_EPOCHS):\n",
        "    train_loss, train_acc = train(model13, train_loader, optimizer13, criterion13, CLIP)\n",
        "    test_loss, test_acc = evaluate(model13, test_loader, criterion13)\n",
        "\n",
        "    train_losses13.append(train_loss)\n",
        "    test_losses13.append(test_loss)\n",
        "\n",
        "    train_accuracies13.append(train_acc)\n",
        "    test_accuracies13.append(test_acc)\n",
        "\n",
        "    print(f'Epoch: {epoch+1:02}, Train Loss: {train_loss:.3f}, Train Acc: {train_acc*100:.2f}%, Val. Loss: {test_loss:.3f}, Val. Acc: {test_acc*100:.2f}%')\n"
      ]
    },
    {
      "cell_type": "code",
      "execution_count": 17,
      "metadata": {
        "colab": {
          "base_uri": "https://localhost:8080/",
          "height": 564
        },
        "id": "adArMjszGFZO",
        "outputId": "73f66f79-dd0d-4266-c281-3b8706314700"
      },
      "outputs": [
        {
          "output_type": "display_data",
          "data": {
            "text/plain": [
              "<Figure size 1200x600 with 2 Axes>"
            ],
            "image/png": "[encoded data removed]"
          },
          "metadata": {}
        }
      ],
      "source": [
        "plt.figure(figsize=(12, 6))\n",
        "\n",
        "plt.subplot(1, 2, 1)\n",
        "plt.plot(train_losses13, label='Train Loss')\n",
        "plt.plot(test_losses13, label='Test Loss')\n",
        "plt.xlabel('Epoch')\n",
        "plt.ylabel('Loss')\n",
        "plt.title('Training and Testing Losses')\n",
        "plt.legend()\n",
        "\n",
        "\n",
        "plt.subplot(1, 2, 2)\n",
        "plt.plot(train_accuracies13, label='Train Accuracy')\n",
        "plt.plot(test_accuracies13, label='Test Accuracy')\n",
        "plt.xlabel('Epoch')\n",
        "plt.ylabel('Accuracy')\n",
        "plt.title('Training and Testing Accuracies')\n",
        "plt.legend()\n",
        "\n",
        "plt.show()\n"
      ]
    },
    {
      "cell_type": "code",
      "execution_count": 10,
      "metadata": {
        "colab": {
          "base_uri": "https://localhost:8080/"
        },
        "id": "ro9ENAMtGFdS",
        "outputId": "32947beb-bd97-4ebb-db4e-5d79f441b28d"
      },
      "outputs": [
        {
          "output_type": "stream",
          "name": "stdout",
          "text": [
            "Test Loss: 0.704, Test Acc: 77.68%\n"
          ]
        }
      ],
      "source": [
        "import torch\n",
        "\n",
        "model13.eval()\n",
        "\n",
        "test_loss13, test_acc13 = evaluate(model13, test_loader, criterion13)\n",
        "print(f'Test Loss: {test_loss13:.3f}, Test Acc: {test_acc13*100:.2f}%')\n"
      ]
    },
    {
      "cell_type": "code",
      "execution_count": null,
      "metadata": {
        "id": "BreriSwYGFgk"
      },
      "outputs": [],
      "source": [
        "from nltk.translate.bleu_score import corpus_bleu\n"
      ]
    },
    {
      "cell_type": "code",
      "execution_count": null,
      "metadata": {
        "id": "63uTgGSCyN6e"
      },
      "outputs": [],
      "source": [
        "from torchtext.data.metrics import bleu_score\n"
      ]
    },
    {
      "cell_type": "code",
      "execution_count": null,
      "metadata": {
        "id": "ncGZHsZvxoH9"
      },
      "outputs": [],
      "source": [
        "def calculate_bleu(data_loader, model, SRC_VOCAB, TRG_VOCAB, SRC, TRG, device):\n",
        "    targets = []\n",
        "    outputs = []\n",
        "\n",
        "    model.eval()\n",
        "    with torch.no_grad():\n",
        "        for _, batch in enumerate(data_loader):\n",
        "            src, trg = batch\n",
        "            src = src.to(device)\n",
        "            trg = trg.to(device)\n",
        "\n",
        "            output = model(src, trg, 0)\n",
        "\n",
        "            output = output.argmax(2).cpu().numpy()\n",
        "            trg = trg.cpu().numpy()\n",
        "\n",
        "            for i in range(output.shape[1]):\n",
        "                trg_sent = [TRG_VOCAB.lookup_token(token) for token in trg[:, i] if token != TRG_VOCAB['<pad>']]\n",
        "                output_sent = [TRG_VOCAB.lookup_token(token) for token in output[1:, i] if token != TRG_VOCAB['<pad>']]\n",
        "                targets.append([trg_sent])\n",
        "                outputs.append(output_sent)\n",
        "\n",
        "    return bleu_score(outputs, targets)\n"
      ]
    },
    {
      "cell_type": "code",
      "execution_count": null,
      "metadata": {
        "colab": {
          "base_uri": "https://localhost:8080/"
        },
        "id": "cTcyW8HxxxQ9",
        "outputId": "180ef34d-3aa2-4730-c594-4797528bb5a4"
      },
      "outputs": [
        {
          "name": "stdout",
          "output_type": "stream",
          "text": [
            "BLEU Score: 30.03\n"
          ]
        }
      ],
      "source": [
        "bleu_score = calculate_bleu(test_loader, model13, SRC_VOCAB, TRG_VOCAB, SRC, TRG, device)\n",
        "print(f'BLEU Score: {bleu_score*100:.2f}')\n"
      ]
    },
    {
      "cell_type": "markdown",
      "metadata": {
        "id": "yKpkLAX8ouHo"
      },
      "source": [
        "GRU"
      ]
    },
    {
      "cell_type": "code",
      "execution_count": null,
      "metadata": {
        "id": "HjY8tZgQou9f"
      },
      "outputs": [],
      "source": [
        "import torch\n",
        "import torch.nn as nn\n",
        "import torch.optim as optim\n",
        "from torch.utils.data import Dataset, DataLoader\n",
        "from tqdm import tqdm\n",
        "\n",
        "class EncoderGRU(nn.Module):\n",
        "    def __init__(self, input_dim, emb_dim, hid_dim, dropout):\n",
        "        super().__init__()\n",
        "        self.embedding = nn.Embedding(input_dim, emb_dim)\n",
        "        self.rnn = nn.GRU(emb_dim, hid_dim, bidirectional=True)\n",
        "        self.fc = nn.Linear(hid_dim * 2, hid_dim)\n",
        "        self.dropout = nn.Dropout(dropout)\n",
        "\n",
        "    def forward(self, src):\n",
        "        embedded = self.dropout(self.embedding(src))\n",
        "        outputs, hidden = self.rnn(embedded)\n",
        "        hidden = torch.tanh(self.fc(torch.cat((hidden[-2,:,:], hidden[-1,:,:]), dim=1)))\n",
        "        return hidden\n",
        "\n",
        "class DecoderGRU(nn.Module):\n",
        "    def __init__(self, output_dim, emb_dim, hid_dim, dropout):\n",
        "        super().__init__()\n",
        "        self.output_dim = output_dim\n",
        "        self.embedding = nn.Embedding(output_dim, emb_dim)\n",
        "        self.rnn = nn.GRU(emb_dim + hid_dim, hid_dim)\n",
        "        self.fc_out = nn.Linear(emb_dim + hid_dim * 2, output_dim)\n",
        "        self.dropout = nn.Dropout(dropout)\n",
        "\n",
        "    def forward(self, input, hidden, context):\n",
        "        input = input.unsqueeze(0)\n",
        "\n",
        "        embedded = self.dropout(self.embedding(input))\n",
        "\n",
        "        context = context.unsqueeze(0)\n",
        "\n",
        "        emb_con = torch.cat((embedded, context), dim=2)\n",
        "\n",
        "        output, hidden = self.rnn(emb_con, hidden.unsqueeze(0))\n",
        "\n",
        "        assert (output == hidden).all()\n",
        "\n",
        "        embedded = embedded.squeeze(0)\n",
        "        output = output.squeeze(0)\n",
        "        context = context.squeeze(0)\n",
        "\n",
        "        prediction = self.fc_out(torch.cat((output, context, embedded), dim=1))\n",
        "\n",
        "        return prediction, hidden.squeeze(0)\n",
        "\n",
        "class Seq2SeqGRU(nn.Module):\n",
        "    def __init__(self, encoder, decoder, device):\n",
        "        super().__init__()\n",
        "        self.encoder = encoder\n",
        "        self.decoder = decoder\n",
        "        self.device = device\n",
        "\n",
        "    def forward(self, src, trg, teacher_forcing_ratio=0.5):\n",
        "        batch_size = trg.shape[1]\n",
        "        trg_len = trg.shape[0]\n",
        "        trg_vocab_size = self.decoder.output_dim\n",
        "\n",
        "        outputs = torch.zeros(trg_len, batch_size, trg_vocab_size).to(self.device)\n",
        "        context = self.encoder(src)\n",
        "        hidden = context\n",
        "        input = trg[0,:]\n",
        "\n",
        "        for t in range(1, trg_len):\n",
        "            output, hidden = self.decoder(input, hidden, context)\n",
        "            outputs[t] = output\n",
        "            teacher_force = random.random() < teacher_forcing_ratio\n",
        "            top1 = output.argmax(1)\n",
        "            input = trg[t] if teacher_force else top1\n",
        "\n",
        "        return outputs\n",
        "\n",
        "\n"
      ]
    },
    {
      "cell_type": "code",
      "execution_count": 18,
      "metadata": {
        "id": "Bf0Weouto0xK"
      },
      "outputs": [],
      "source": [
        "def train(model, iterator, optimizer, criterion, clip):\n",
        "    model.train()\n",
        "    epoch_loss = 0\n",
        "\n",
        "    for _, batch in enumerate(iterator):\n",
        "        src, trg = batch\n",
        "        src, trg = src.to(device), trg.to(device)\n",
        "\n",
        "        optimizer.zero_grad()\n",
        "\n",
        "        output = model(src, trg)\n",
        "\n",
        "        output_dim = output.shape[-1]\n",
        "\n",
        "        output = output[1:].view(-1, output_dim)\n",
        "        trg = trg[1:].view(-1)\n",
        "\n",
        "        loss = criterion(output, trg)\n",
        "        loss.backward()\n",
        "\n",
        "        torch.nn.utils.clip_grad_norm_(model.parameters(), clip)\n",
        "        optimizer.step()\n",
        "\n",
        "        epoch_loss += loss.item()\n",
        "\n",
        "    return epoch_loss / len(iterator)\n",
        "\n",
        "def calculate_accuracy(preds, y):\n",
        "    max_preds = preds.argmax(dim=1, keepdim=True)\n",
        "    non_pad_elements = (y != TRG_VOCAB['<pad>']).nonzero(as_tuple=True)\n",
        "    correct = max_preds[non_pad_elements].squeeze(1).eq(y[non_pad_elements]).sum()\n",
        "    return correct.item() / len(y[non_pad_elements])\n",
        "\n",
        "def evaluate(model, iterator, criterion):\n",
        "    model.eval()\n",
        "    epoch_loss = 0\n",
        "    epoch_acc = 0\n",
        "\n",
        "    with torch.no_grad():\n",
        "        for _, batch in enumerate(iterator):\n",
        "            src, trg = batch\n",
        "            src, trg = src.to(device), trg.to(device)\n",
        "\n",
        "            output = model(src, trg, 0)\n",
        "\n",
        "            output_dim = output.shape[-1]\n",
        "\n",
        "            output = output[1:].reshape(-1, output_dim)\n",
        "            trg = trg[1:].reshape(-1)\n",
        "\n",
        "            loss = criterion(output, trg)\n",
        "            acc = calculate_accuracy(output, trg)\n",
        "\n",
        "            epoch_loss += loss.item()\n",
        "            epoch_acc += acc\n",
        "\n",
        "    return epoch_loss / len(iterator), epoch_acc / len(iterator)\n",
        "\n",
        "\n"
      ]
    },
    {
      "cell_type": "code",
      "execution_count": 20,
      "metadata": {
        "colab": {
          "base_uri": "https://localhost:8080/"
        },
        "id": "yT9RfNsvo321",
        "outputId": "8c1d4221-43b2-4ab0-a362-480b807c0cb6"
      },
      "outputs": [
        {
          "output_type": "stream",
          "name": "stdout",
          "text": [
            "Epoch: 1 | Train Loss: 0.949 | Train Acc: 74.55% | Test Loss: 0.958 | Test Acc: 74.52%\n",
            "Epoch: 2 | Train Loss: 0.888 | Train Acc: 74.46% | Test Loss: 0.916 | Test Acc: 74.56%\n",
            "Epoch: 3 | Train Loss: 0.796 | Train Acc: 76.75% | Test Loss: 0.851 | Test Acc: 76.06%\n",
            "Epoch: 4 | Train Loss: 0.745 | Train Acc: 76.63% | Test Loss: 0.824 | Test Acc: 75.92%\n",
            "Epoch: 5 | Train Loss: 0.736 | Train Acc: 77.38% | Test Loss: 0.840 | Test Acc: 75.78%\n",
            "Epoch: 6 | Train Loss: 0.687 | Train Acc: 76.42% | Test Loss: 0.815 | Test Acc: 74.73%\n",
            "Epoch: 7 | Train Loss: 0.651 | Train Acc: 77.93% | Test Loss: 0.814 | Test Acc: 75.43%\n",
            "Epoch: 8 | Train Loss: 0.658 | Train Acc: 77.24% | Test Loss: 0.833 | Test Acc: 74.70%\n",
            "Epoch: 9 | Train Loss: 0.609 | Train Acc: 78.58% | Test Loss: 0.804 | Test Acc: 75.73%\n",
            "Epoch: 10 | Train Loss: 0.677 | Train Acc: 75.68% | Test Loss: 0.879 | Test Acc: 72.93%\n",
            "Epoch: 11 | Train Loss: 0.593 | Train Acc: 78.50% | Test Loss: 0.821 | Test Acc: 74.75%\n",
            "Epoch: 12 | Train Loss: 0.556 | Train Acc: 79.87% | Test Loss: 0.805 | Test Acc: 75.51%\n",
            "Epoch: 13 | Train Loss: 0.554 | Train Acc: 79.58% | Test Loss: 0.815 | Test Acc: 75.29%\n",
            "Epoch: 14 | Train Loss: 0.525 | Train Acc: 80.90% | Test Loss: 0.809 | Test Acc: 75.83%\n",
            "Epoch: 15 | Train Loss: 0.526 | Train Acc: 80.62% | Test Loss: 0.817 | Test Acc: 75.44%\n",
            "Epoch: 16 | Train Loss: 0.542 | Train Acc: 79.65% | Test Loss: 0.825 | Test Acc: 74.81%\n",
            "Epoch: 17 | Train Loss: 0.547 | Train Acc: 80.00% | Test Loss: 0.865 | Test Acc: 74.63%\n",
            "Epoch: 18 | Train Loss: 0.509 | Train Acc: 81.82% | Test Loss: 0.843 | Test Acc: 75.74%\n",
            "Epoch: 19 | Train Loss: 0.461 | Train Acc: 82.92% | Test Loss: 0.801 | Test Acc: 76.74%\n",
            "Epoch: 20 | Train Loss: 0.508 | Train Acc: 80.98% | Test Loss: 0.854 | Test Acc: 75.11%\n",
            "Epoch: 21 | Train Loss: 0.466 | Train Acc: 82.87% | Test Loss: 0.815 | Test Acc: 76.52%\n",
            "Epoch: 22 | Train Loss: 0.530 | Train Acc: 80.21% | Test Loss: 0.885 | Test Acc: 74.36%\n",
            "Epoch: 23 | Train Loss: 0.474 | Train Acc: 82.37% | Test Loss: 0.859 | Test Acc: 75.44%\n",
            "Epoch: 24 | Train Loss: 0.457 | Train Acc: 83.26% | Test Loss: 0.848 | Test Acc: 75.93%\n",
            "Epoch: 25 | Train Loss: 0.484 | Train Acc: 82.08% | Test Loss: 0.873 | Test Acc: 75.40%\n",
            "Epoch: 26 | Train Loss: 0.419 | Train Acc: 84.62% | Test Loss: 0.829 | Test Acc: 76.39%\n",
            "Epoch: 27 | Train Loss: 0.472 | Train Acc: 82.78% | Test Loss: 0.873 | Test Acc: 75.31%\n",
            "Epoch: 28 | Train Loss: 0.458 | Train Acc: 82.79% | Test Loss: 0.875 | Test Acc: 75.00%\n",
            "Epoch: 29 | Train Loss: 0.437 | Train Acc: 83.74% | Test Loss: 0.866 | Test Acc: 75.83%\n",
            "Epoch: 30 | Train Loss: 0.415 | Train Acc: 84.72% | Test Loss: 0.860 | Test Acc: 76.35%\n"
          ]
        }
      ],
      "source": [
        "INPUT_DIM = len(SRC_VOCAB)\n",
        "OUTPUT_DIM = len(TRG_VOCAB)\n",
        "ENC_EMB_DIM = 256\n",
        "DEC_EMB_DIM = 256\n",
        "ENC_HID_DIM = 512\n",
        "DEC_HID_DIM = 512\n",
        "ENC_DROPOUT = 0.5\n",
        "DEC_DROPOUT = 0.5\n",
        "import random\n",
        "\n",
        "enc = EncoderGRU(INPUT_DIM, ENC_EMB_DIM, ENC_HID_DIM, ENC_DROPOUT)\n",
        "dec = DecoderGRU(OUTPUT_DIM, DEC_EMB_DIM, DEC_HID_DIM, DEC_DROPOUT)\n",
        "device = torch.device('cuda' if torch.cuda.is_available() else 'cpu')\n",
        "model31 = Seq2SeqGRU(enc, dec, device).to(device)\n",
        "\n",
        "optimizer31 = optim.Adam(model31.parameters())\n",
        "criterion31 = nn.CrossEntropyLoss(ignore_index=TRG_VOCAB['<pad>'])\n",
        "\n",
        "NUM_EPOCHS = 30\n",
        "CLIP = 1\n",
        "train_losses31 = []\n",
        "test_losses31 = []\n",
        "test_accuracies31 = []\n",
        "train_accuracies31 = []\n",
        "\n",
        "for epoch in range(NUM_EPOCHS):\n",
        "    train_loss = train(model31, train_loader, optimizer31, criterion31, CLIP)\n",
        "    train_loss, train_acc = evaluate(model31, train_loader, criterion31)\n",
        "    test_loss, test_acc = evaluate(model31, test_loader, criterion31)\n",
        "\n",
        "    train_losses31.append(train_loss)\n",
        "    test_losses31.append(test_loss)\n",
        "    test_accuracies31.append(test_acc)\n",
        "    train_accuracies31.append(train_acc)\n",
        "\n",
        "    print(f'Epoch: {epoch+1} | Train Loss: {train_loss:.3f} | Train Acc: {train_acc*100:.2f}% | Test Loss: {test_loss:.3f} | Test Acc: {test_acc*100:.2f}%')\n",
        "\n"
      ]
    },
    {
      "cell_type": "code",
      "execution_count": 21,
      "metadata": {
        "colab": {
          "base_uri": "https://localhost:8080/",
          "height": 564
        },
        "id": "j6N9uK0iqhps",
        "outputId": "db6de1ee-8618-4100-d0e1-679692a707ad"
      },
      "outputs": [
        {
          "output_type": "display_data",
          "data": {
            "text/plain": [
              "<Figure size 1000x600 with 2 Axes>"
            ],
            "image/png": "[encoded data removed]"
          },
          "metadata": {}
        }
      ],
      "source": [
        "plt.figure(figsize=(10, 6))\n",
        "plt.subplot(1, 2, 1)\n",
        "plt.plot(train_losses31, label='Train Loss')\n",
        "plt.plot(test_losses31, label='Test Loss')\n",
        "plt.xlabel('Epoch')\n",
        "plt.ylabel('Loss')\n",
        "plt.legend()\n",
        "plt.title('Training and Testing Losses Over Epochs')\n",
        "\n",
        "plt.subplot(1, 2, 2)\n",
        "plt.plot(train_accuracies31, label='Train Accuracy')\n",
        "plt.plot(test_accuracies31, label='Test Accuracy')\n",
        "plt.xlabel('Epoch')\n",
        "plt.ylabel('Accuracy')\n",
        "plt.legend()\n",
        "plt.title('Training and Testing Accuracies Over Epochs')\n",
        "\n",
        "plt.show()\n"
      ]
    },
    {
      "cell_type": "code",
      "execution_count": 22,
      "metadata": {
        "colab": {
          "base_uri": "https://localhost:8080/"
        },
        "id": "B07QW5MArLfo",
        "outputId": "71200ab3-a6c7-4491-e27f-e1d2463dc9ce"
      },
      "outputs": [
        {
          "output_type": "stream",
          "name": "stdout",
          "text": [
            "Test Loss: 0.861, Test Acc: 76.29%\n"
          ]
        }
      ],
      "source": [
        "import torch\n",
        "\n",
        "model31.eval()\n",
        "\n",
        "test_loss11, test_acc11 = evaluate(model31, test_loader, criterion31)\n",
        "print(f'Test Loss: {test_loss11:.3f}, Test Acc: {test_acc11*100:.2f}%')\n"
      ]
    },
    {
      "cell_type": "markdown",
      "metadata": {
        "id": "Df-pmUmYr6Pg"
      },
      "source": [
        "BLEU Score-GRU"
      ]
    },
    {
      "cell_type": "code",
      "execution_count": null,
      "metadata": {
        "id": "rXeaR39Fr47Y"
      },
      "outputs": [],
      "source": [
        "from torchtext.data.metrics import bleu_score\n"
      ]
    },
    {
      "cell_type": "code",
      "execution_count": null,
      "metadata": {
        "id": "Fwjmz_z7r87s"
      },
      "outputs": [],
      "source": [
        "def calculate_bleu(data_loader, model, SRC_VOCAB, TRG_VOCAB, SRC, TRG, device):\n",
        "    targets = []\n",
        "    outputs = []\n",
        "\n",
        "    model.eval()\n",
        "    with torch.no_grad():\n",
        "        for _, batch in enumerate(data_loader):\n",
        "            src, trg = batch\n",
        "            src = src.to(device)\n",
        "            trg = trg.to(device)\n",
        "\n",
        "            output = model(src, trg, 0)\n",
        "\n",
        "            output = output.argmax(2).cpu().numpy()\n",
        "            trg = trg.cpu().numpy()\n",
        "\n",
        "            for i in range(output.shape[1]):\n",
        "                trg_sent = [TRG_VOCAB.lookup_token(token) for token in trg[:, i] if token != TRG_VOCAB['<pad>']]\n",
        "                output_sent = [TRG_VOCAB.lookup_token(token) for token in output[1:, i] if token != TRG_VOCAB['<pad>']]\n",
        "                targets.append([trg_sent])\n",
        "                outputs.append(output_sent)\n",
        "\n",
        "    return bleu_score(outputs, targets)\n"
      ]
    },
    {
      "cell_type": "code",
      "execution_count": null,
      "metadata": {
        "colab": {
          "base_uri": "https://localhost:8080/"
        },
        "id": "fv98VUmIsFAg",
        "outputId": "345a7fc6-1be4-4ef9-bf13-ac63cbfa20db"
      },
      "outputs": [
        {
          "name": "stdout",
          "output_type": "stream",
          "text": [
            "BLEU Score: 30.23\n"
          ]
        }
      ],
      "source": [
        "bleu_score = calculate_bleu(test_loader, model31, SRC_VOCAB, TRG_VOCAB, SRC, TRG, device)\n",
        "print(f'BLEU Score: {bleu_score*100:.2f}')\n"
      ]
    },
    {
      "cell_type": "code",
      "execution_count": null,
      "metadata": {
        "id": "JcXDaItNb9gN"
      },
      "outputs": [],
      "source": []
    },
    {
      "cell_type": "markdown",
      "metadata": {
        "id": "PFvFfkCWcD6H"
      },
      "source": [
        "GRU model 2"
      ]
    },
    {
      "cell_type": "code",
      "execution_count": 23,
      "metadata": {
        "colab": {
          "base_uri": "https://localhost:8080/"
        },
        "id": "9ZBi4J8ucGMd",
        "outputId": "e7cac78c-2f61-4caa-ec91-877d754e0996"
      },
      "outputs": [
        {
          "output_type": "stream",
          "name": "stdout",
          "text": [
            "Epoch: 1 | Train Loss: 0.893 | Train Acc: 60.45% | Test Loss: 0.940 | Test Acc: 71.47%\n",
            "Epoch: 2 | Train Loss: 0.878 | Train Acc: 61.57% | Test Loss: 0.960 | Test Acc: 68.51%\n",
            "Epoch: 3 | Train Loss: 0.824 | Train Acc: 62.16% | Test Loss: 0.934 | Test Acc: 68.87%\n",
            "Epoch: 4 | Train Loss: 0.815 | Train Acc: 62.94% | Test Loss: 0.934 | Test Acc: 68.48%\n",
            "Epoch: 5 | Train Loss: 0.811 | Train Acc: 64.32% | Test Loss: 0.872 | Test Acc: 68.85%\n",
            "Epoch: 6 | Train Loss: 0.798 | Train Acc: 64.50% | Test Loss: 0.919 | Test Acc: 68.57%\n",
            "Epoch: 7 | Train Loss: 0.758 | Train Acc: 65.99% | Test Loss: 0.874 | Test Acc: 68.33%\n",
            "Epoch: 8 | Train Loss: 0.724 | Train Acc: 66.12% | Test Loss: 0.875 | Test Acc: 69.83%\n",
            "Epoch: 9 | Train Loss: 0.739 | Train Acc: 67.12% | Test Loss: 0.870 | Test Acc: 69.49%\n",
            "Epoch: 10 | Train Loss: 0.680 | Train Acc: 67.75% | Test Loss: 0.857 | Test Acc: 67.43%\n",
            "Epoch: 11 | Train Loss: 0.694 | Train Acc: 67.69% | Test Loss: 0.812 | Test Acc: 70.46%\n",
            "Epoch: 12 | Train Loss: 0.655 | Train Acc: 69.68% | Test Loss: 0.810 | Test Acc: 70.93%\n",
            "Epoch: 13 | Train Loss: 0.633 | Train Acc: 69.72% | Test Loss: 0.810 | Test Acc: 70.79%\n",
            "Epoch: 14 | Train Loss: 0.604 | Train Acc: 70.42% | Test Loss: 0.781 | Test Acc: 70.49%\n",
            "Epoch: 15 | Train Loss: 0.617 | Train Acc: 70.28% | Test Loss: 0.789 | Test Acc: 71.85%\n",
            "Epoch: 16 | Train Loss: 0.563 | Train Acc: 71.45% | Test Loss: 0.780 | Test Acc: 70.90%\n",
            "Epoch: 17 | Train Loss: 0.563 | Train Acc: 72.07% | Test Loss: 0.761 | Test Acc: 71.73%\n",
            "Epoch: 18 | Train Loss: 0.532 | Train Acc: 73.42% | Test Loss: 0.777 | Test Acc: 71.22%\n",
            "Epoch: 19 | Train Loss: 0.528 | Train Acc: 73.20% | Test Loss: 0.758 | Test Acc: 71.64%\n",
            "Epoch: 20 | Train Loss: 0.486 | Train Acc: 75.43% | Test Loss: 0.736 | Test Acc: 71.68%\n",
            "Epoch: 21 | Train Loss: 0.496 | Train Acc: 76.22% | Test Loss: 0.745 | Test Acc: 71.95%\n",
            "Epoch: 22 | Train Loss: 0.462 | Train Acc: 75.11% | Test Loss: 0.747 | Test Acc: 71.53%\n",
            "Epoch: 23 | Train Loss: 0.443 | Train Acc: 76.11% | Test Loss: 0.738 | Test Acc: 71.34%\n",
            "Epoch: 24 | Train Loss: 0.420 | Train Acc: 77.77% | Test Loss: 0.696 | Test Acc: 72.46%\n",
            "Epoch: 25 | Train Loss: 0.400 | Train Acc: 78.04% | Test Loss: 0.692 | Test Acc: 71.63%\n",
            "Epoch: 26 | Train Loss: 0.400 | Train Acc: 78.84% | Test Loss: 0.699 | Test Acc: 71.89%\n",
            "Epoch: 27 | Train Loss: 0.400 | Train Acc: 80.53% | Test Loss: 0.661 | Test Acc: 70.54%\n",
            "Epoch: 28 | Train Loss: 0.400 | Train Acc: 80.07% | Test Loss: 0.672 | Test Acc: 72.37%\n",
            "Epoch: 29 | Train Loss: 0.400 | Train Acc: 80.36% | Test Loss: 0.652 | Test Acc: 72.10%\n",
            "Epoch: 30 | Train Loss: 0.400 | Train Acc: 81.36% | Test Loss: 0.676 | Test Acc: 72.41%\n"
          ]
        }
      ],
      "source": [
        "\n",
        "INPUT_DIM = len(SRC_VOCAB)\n",
        "OUTPUT_DIM = len(TRG_VOCAB)\n",
        "ENC_EMB_DIM = 256\n",
        "DEC_EMB_DIM = 256\n",
        "ENC_HID_DIM = 512\n",
        "DEC_HID_DIM = 512\n",
        "ENC_DROPOUT = 0.5\n",
        "DEC_DROPOUT = 0.5\n",
        "import random\n",
        "\n",
        "enc = EncoderGRU(INPUT_DIM, ENC_EMB_DIM, ENC_HID_DIM, ENC_DROPOUT)\n",
        "dec = DecoderGRU(OUTPUT_DIM, DEC_EMB_DIM, DEC_HID_DIM, DEC_DROPOUT)\n",
        "device = torch.device('cuda' if torch.cuda.is_available() else 'cpu')\n",
        "model32 = Seq2SeqGRU(enc, dec, device).to(device)\n",
        "\n",
        "class LabelSmoothingCrossEntropy(nn.Module):\n",
        "    def __init__(self, smoothing=0.1):\n",
        "        super(LabelSmoothingCrossEntropy, self).__init__()\n",
        "        self.smoothing = smoothing\n",
        "\n",
        "    def forward(self, input, target):\n",
        "        log_prob = nn.functional.log_softmax(input, dim=-1)\n",
        "        weight = input.new_ones(input.size()) * self.smoothing / (input.size(-1) - 1.)\n",
        "        weight.scatter_(-1, target.unsqueeze(-1), (1. - self.smoothing))\n",
        "        loss = (-weight * log_prob).sum(dim=-1).mean()\n",
        "        return loss\n",
        "\n",
        "criterion32 = LabelSmoothingCrossEntropy()\n",
        "\n",
        "optimizer32 = optim.SGD(model32.parameters(), lr=0.01, momentum=0.9)\n",
        "\n",
        "\n",
        "NUM_EPOCHS = 30\n",
        "CLIP = 1\n",
        "\n",
        "\n",
        "train_losses32 = []\n",
        "test_losses32 = []\n",
        "test_accuracies32 = []\n",
        "train_accuracies32 = []\n",
        "\n",
        "for epoch in range(NUM_EPOCHS):\n",
        "    train_loss = train(model32, train_loader, optimizer32, criterion32, CLIP)\n",
        "    train_loss, train_acc = evaluate(model32, train_loader, criterion32)\n",
        "    test_loss, test_acc = evaluate(model32, test_loader, criterion32)\n",
        "\n",
        "    train_losses32.append(train_loss)\n",
        "    test_losses32.append(test_loss)\n",
        "    test_accuracies32.append(test_acc)\n",
        "    train_accuracies32.append(train_acc)\n",
        "\n",
        "    print(f'Epoch: {epoch+1} | Train Loss: {train_loss:.3f} | Train Acc: {train_acc*100:.2f}% | Test Loss: {test_loss:.3f} | Test Acc: {test_acc*100:.2f}%')\n"
      ]
    },
    {
      "cell_type": "code",
      "execution_count": 27,
      "metadata": {
        "colab": {
          "base_uri": "https://localhost:8080/",
          "height": 564
        },
        "id": "DudQvswMcGW-",
        "outputId": "9f84cb8b-7309-4421-8f13-abbcc0019e75"
      },
      "outputs": [
        {
          "output_type": "display_data",
          "data": {
            "text/plain": [
              "<Figure size 1000x600 with 2 Axes>"
            ],
            "image/png": "[encoded data removed]"
          },
          "metadata": {}
        }
      ],
      "source": [
        "plt.figure(figsize=(10, 6))\n",
        "plt.subplot(1, 2, 1)\n",
        "plt.plot(train_losses32, label='Train Loss')\n",
        "plt.plot(test_losses32, label='Test Loss')\n",
        "plt.xlabel('Epoch')\n",
        "plt.ylabel('Loss')\n",
        "plt.legend()\n",
        "plt.title('Training and Testing Losses Over Epochs')\n",
        "\n",
        "plt.subplot(1, 2, 2)\n",
        "plt.plot(train_accuracies32, label='Train Accuracy')\n",
        "plt.plot(test_accuracies32, label='Test Accuracy')\n",
        "plt.xlabel('Epoch')\n",
        "plt.ylabel('Accuracy')\n",
        "plt.legend()\n",
        "plt.title('Training and Testing Accuracies Over Epochs')\n",
        "\n",
        "plt.show()"
      ]
    },
    {
      "cell_type": "code",
      "execution_count": null,
      "metadata": {
        "colab": {
          "base_uri": "https://localhost:8080/"
        },
        "id": "WnRdzshEcGbc",
        "outputId": "0aeef884-40f1-4791-d84e-80b04f5da058"
      },
      "outputs": [
        {
          "name": "stdout",
          "output_type": "stream",
          "text": [
            "Test Loss: 2.028, Test Acc: 55.92%\n",
            "Model GRU32 training complete and saved.\n"
          ]
        }
      ],
      "source": [
        "import torch\n",
        "\n",
        "model32.eval()\n",
        "\n",
        "test_loss12, test_acc12 = evaluate(model32, test_loader, criterion32)\n",
        "print(f'Test Loss: {test_loss12:.3f}, Test Acc: {test_acc12*100:.2f}%')\n",
        "\n"
      ]
    },
    {
      "cell_type": "code",
      "execution_count": null,
      "metadata": {
        "id": "CyUqWExZfMPO"
      },
      "outputs": [],
      "source": [
        "from torchtext.data.metrics import bleu_score\n"
      ]
    },
    {
      "cell_type": "code",
      "execution_count": null,
      "metadata": {
        "id": "IYJgmMcCfMgX"
      },
      "outputs": [],
      "source": [
        "def calculate_bleu(data_loader, model, SRC_VOCAB, TRG_VOCAB, SRC, TRG, device):\n",
        "    targets = []\n",
        "    outputs = []\n",
        "\n",
        "    model.eval()\n",
        "    with torch.no_grad():\n",
        "        for _, batch in enumerate(data_loader):\n",
        "            src, trg = batch\n",
        "            src = src.to(device)\n",
        "            trg = trg.to(device)\n",
        "\n",
        "            output = model(src, trg, 0)\n",
        "\n",
        "            output = output.argmax(2).cpu().numpy()\n",
        "            trg = trg.cpu().numpy()\n",
        "\n",
        "            for i in range(output.shape[1]):\n",
        "                trg_sent = [TRG_VOCAB.lookup_token(token) for token in trg[:, i] if token != TRG_VOCAB['<pad>']]\n",
        "                output_sent = [TRG_VOCAB.lookup_token(token) for token in output[1:, i] if token != TRG_VOCAB['<pad>']]\n",
        "                targets.append([trg_sent])\n",
        "                outputs.append(output_sent)\n",
        "\n",
        "    return bleu_score(outputs, targets)\n"
      ]
    },
    {
      "cell_type": "code",
      "execution_count": 26,
      "metadata": {
        "colab": {
          "base_uri": "https://localhost:8080/"
        },
        "id": "vhY9hsNOfMp_",
        "outputId": "21b7c9d6-2385-4fc8-bdb4-3cc0ad8515b5"
      },
      "outputs": [
        {
          "output_type": "stream",
          "name": "stdout",
          "text": [
            "BLEU Score:  25.58\n"
          ]
        }
      ],
      "source": [
        "bleu_score = calculate_bleu(test_loader, model32, SRC_VOCAB, TRG_VOCAB, SRC, TRG, device)\n",
        "print(f'BLEU Score: {bleu_score*100:.2f}')"
      ]
    },
    {
      "cell_type": "markdown",
      "source": [
        "BERT"
      ],
      "metadata": {
        "id": "lZgiKmbH8E3Z"
      }
    },
    {
      "cell_type": "code",
      "source": [
        "!pip install sacrebleu"
      ],
      "metadata": {
        "colab": {
          "base_uri": "https://localhost:8080/"
        },
        "id": "_KNGwLvl8SgL",
        "outputId": "de8f89b4-37cc-435c-de4b-64b8ac80de34"
      },
      "execution_count": null,
      "outputs": [
        {
          "output_type": "stream",
          "name": "stdout",
          "text": [
            "Collecting sacrebleu\n",
            "  Downloading sacrebleu-2.3.3-py3-none-any.whl (106 kB)\n",
            "\u001b[2K     \u001b[90m━━━━━━━━━━━━━━━━━━━━━━━━━━━━━━━━━━━━━━━━\u001b[0m \u001b[32m106.4/106.4 kB\u001b[0m \u001b[31m1.1 MB/s\u001b[0m eta \u001b[36m0:00:00\u001b[0m\n",
            "\u001b[?25hCollecting portalocker (from sacrebleu)\n",
            "  Downloading portalocker-2.8.2-py3-none-any.whl (17 kB)\n",
            "Requirement already satisfied: regex in /usr/local/lib/python3.10/dist-packages (from sacrebleu) (2023.6.3)\n",
            "Requirement already satisfied: tabulate>=0.8.9 in /usr/local/lib/python3.10/dist-packages (from sacrebleu) (0.9.0)\n",
            "Requirement already satisfied: numpy>=1.17 in /usr/local/lib/python3.10/dist-packages (from sacrebleu) (1.23.5)\n",
            "Collecting colorama (from sacrebleu)\n",
            "  Downloading colorama-0.4.6-py2.py3-none-any.whl (25 kB)\n",
            "Requirement already satisfied: lxml in /usr/local/lib/python3.10/dist-packages (from sacrebleu) (4.9.3)\n",
            "Installing collected packages: portalocker, colorama, sacrebleu\n",
            "Successfully installed colorama-0.4.6 portalocker-2.8.2 sacrebleu-2.3.3\n"
          ]
        }
      ]
    },
    {
      "cell_type": "code",
      "source": [
        "import pandas as pd\n",
        "import numpy as np\n",
        "from transformers import BertTokenizer, BertModel, AdamW\n",
        "import torch\n",
        "from torch.utils.data import Dataset, DataLoader\n",
        "from torch import nn\n",
        "from sklearn.model_selection import train_test_split\n",
        "import matplotlib.pyplot as plt\n",
        "from sacrebleu import corpus_bleu\n",
        "\n",
        "file_path = 'eng_-french.csv'\n",
        "data = pd.read_csv(file_path)\n"
      ],
      "metadata": {
        "id": "oKoaHhM48GQw"
      },
      "execution_count": null,
      "outputs": []
    },
    {
      "cell_type": "code",
      "source": [
        "tokenizer = BertTokenizer.from_pretrained('bert-base-uncased')\n",
        "\n",
        "def preprocess_text(text):\n",
        "    return tokenizer.encode(text, add_special_tokens=True, max_length=128, padding='max_length', truncation=True)\n",
        "\n",
        "data['English_encoded'] = data['English words/sentences'].apply(preprocess_text)\n",
        "data['French_encoded'] = data['French words/sentences'].apply(preprocess_text)\n"
      ],
      "metadata": {
        "colab": {
          "base_uri": "https://localhost:8080/",
          "height": 145,
          "referenced_widgets": [
            "25cb05b2ee814d36b9d14146d33926bf",
            "91fbfab4b17248349cdcf39ce205c843",
            "5291edf3cd2547b5800e16edd27b278f",
            "163828fee33249258b594d7f2fb73899",
            "5c3383870b9c46569ba5caada35c01b2",
            "6200a7fd73f74e2fb0c7dbe7ec6bf1d3",
            "19f870191864422db65d6ee3120bc49b",
            "122babe5ec9b4d0598bfc1518f8be0fb",
            "56ff1bc2a9164341b962eea808bc6dbc",
            "77b66238a1174710913d489fbe01af4e",
            "ee2d59e21a4c43f998cc3614f493cede",
            "00abdd1c5665409eb214979014b02d5e",
            "19115ebd39f8438396844493c3195d13",
            "6d2b16ca4f46405c8ff3d6532a77fb89",
            "db16c3cd39ea4e3abb9d5546acc273a9",
            "1e6fb5fb39f74d96ac0e1cb13a7f1aa6",
            "47a380bb1a604a738cdb42dc9912cfcf",
            "448c87e8f279414c9805ea861ae17482",
            "f334896006164b7c9b93898b31675bcf",
            "9ddd70ea613b4cb98bece2404dfab5e5",
            "39a546fbc02b4fa195001ffe58ffdb6e",
            "b547a743f2ab464d85bbbaeb8824b694",
            "0b68026fd9d64192842c2339c6a40ff6",
            "fd1f753ed7b74bf4b2f325e1b160371a",
            "ba25195a9ec24ae49190387a13ee6cdd",
            "c7530508df4444f9981a6d7fc5a7264f",
            "46de15fede454f42ac1a98c3e106e12b",
            "9228344c17c64f568a405dbcc27149c5",
            "54188a3b4a2e4495bc4fb4dd8e1d4e2d",
            "261c2c89034a474fa1f294a2869aaeda",
            "d0025008ebb14e8a8cea6577bfaec368",
            "c95fa54e81bd42a099f2fcb88adf8698",
            "21fbd27ba8044fc4acf99bd42159b7d5",
            "5681a38bbb8f49319703f2cc393a53a2",
            "c11d61ce693b455b85baf111879f9ffa",
            "81a92d7d7b2341dc97bd0b794cd24ed5",
            "db3cd0db7522430fbb45e288181c1602",
            "b2884c153d864800ba0ec5053c350165",
            "793af558146848749ff8d00bcf015469",
            "1764647d0adf42ef879e2841e3615f61",
            "21707ff683494e63828041d6ce61e712",
            "5f3b87c11ee745e1ba65f420b6455e4c",
            "65acff9da13f4c8fb97f544b8d33293a",
            "d833b8bc2a5344f88d6453d7f4312fd2"
          ]
        },
        "id": "am-6EBUc8Gje",
        "outputId": "6e0ad001-3f24-4f56-9d52-63c6aecad904"
      },
      "execution_count": null,
      "outputs": [
        {
          "output_type": "display_data",
          "data": {
            "text/plain": [
              "tokenizer_config.json:   0%|          | 0.00/28.0 [00:00<?, ?B/s]"
            ],
            "application/vnd.jupyter.widget-view+json": {
              "version_major": 2,
              "version_minor": 0,
              "model_id": "25cb05b2ee814d36b9d14146d33926bf"
            }
          },
          "metadata": {}
        },
        {
          "output_type": "display_data",
          "data": {
            "text/plain": [
              "vocab.txt:   0%|          | 0.00/232k [00:00<?, ?B/s]"
            ],
            "application/vnd.jupyter.widget-view+json": {
              "version_major": 2,
              "version_minor": 0,
              "model_id": "00abdd1c5665409eb214979014b02d5e"
            }
          },
          "metadata": {}
        },
        {
          "output_type": "display_data",
          "data": {
            "text/plain": [
              "tokenizer.json:   0%|          | 0.00/466k [00:00<?, ?B/s]"
            ],
            "application/vnd.jupyter.widget-view+json": {
              "version_major": 2,
              "version_minor": 0,
              "model_id": "0b68026fd9d64192842c2339c6a40ff6"
            }
          },
          "metadata": {}
        },
        {
          "output_type": "display_data",
          "data": {
            "text/plain": [
              "config.json:   0%|          | 0.00/570 [00:00<?, ?B/s]"
            ],
            "application/vnd.jupyter.widget-view+json": {
              "version_major": 2,
              "version_minor": 0,
              "model_id": "5681a38bbb8f49319703f2cc393a53a2"
            }
          },
          "metadata": {}
        }
      ]
    },
    {
      "cell_type": "code",
      "source": [
        "train_data, test_data = train_test_split(data, test_size=0.2)\n",
        "train_data, val_data = train_test_split(train_data, test_size=0.25)  # 0.25 * 0.8 = 0.2\n"
      ],
      "metadata": {
        "id": "3tPUwWQl8Gm9"
      },
      "execution_count": null,
      "outputs": []
    },
    {
      "cell_type": "code",
      "source": [
        "class TranslationDataset(Dataset):\n",
        "    def __init__(self, data):\n",
        "        self.data = data\n",
        "\n",
        "    def __len__(self):\n",
        "        return len(self.data)\n",
        "\n",
        "    def __getitem__(self, idx):\n",
        "        item = self.data.iloc[idx]\n",
        "        return {\n",
        "            'english': torch.tensor(item['English_encoded']),\n",
        "            'french': torch.tensor(item['French_encoded'])\n",
        "        }\n",
        "\n",
        "train_dataset = TranslationDataset(train_data)\n",
        "val_dataset = TranslationDataset(val_data)\n",
        "test_dataset = TranslationDataset(test_data)\n",
        "\n",
        "train_loader = DataLoader(train_dataset, batch_size=128, shuffle=True)\n",
        "val_loader = DataLoader(val_dataset, batch_size=128)\n",
        "test_loader = DataLoader(test_dataset, batch_size=128)\n"
      ],
      "metadata": {
        "id": "kBa4tEAZAHx5"
      },
      "execution_count": null,
      "outputs": []
    },
    {
      "cell_type": "code",
      "source": [
        "class TranslationModel(nn.Module):\n",
        "    def __init__(self):\n",
        "        super(TranslationModel, self).__init__()\n",
        "        self.bert = BertModel.from_pretrained('bert-base-uncased')\n",
        "        self.decoder = nn.Linear(self.bert.config.hidden_size, tokenizer.vocab_size)\n",
        "\n",
        "    def forward(self, input_ids):\n",
        "        with torch.no_grad():\n",
        "            encoded = self.bert(input_ids)[0]\n",
        "        return self.decoder(encoded)\n",
        "\n",
        "model = TranslationModel()\n",
        "optimizer = AdamW(model.parameters(), lr=5e-5)\n",
        "criterion = nn.CrossEntropyLoss(ignore_index=tokenizer.pad_token_id)\n"
      ],
      "metadata": {
        "colab": {
          "base_uri": "https://localhost:8080/",
          "height": 104,
          "referenced_widgets": [
            "2c5ed641083a45ed9bde98ee8678c9b4",
            "fa5e8648fb0240bd87bc004a0133ffca",
            "4ab4cadd296848dcb8661747fa471034",
            "f1755c6ce192474db0948ade4573b4fb",
            "26bbb499943949b687c0c8f979374d2a",
            "ce1fa6b7551743cf88f3b5ada22d6684",
            "1ccbe207bc5b441dbd3c404c79a529aa",
            "909984b912a44c269238ac517d6e9720",
            "4286d607b7b844c981c3f64556e59760",
            "5ecb363766e04e9daa697806258939c7",
            "409670a0a03f48f88394989a7ff5db5c"
          ]
        },
        "id": "dIyVuw63AH8a",
        "outputId": "3b362d67-2728-416b-f7f7-e6c8058a6d58"
      },
      "execution_count": null,
      "outputs": [
        {
          "output_type": "display_data",
          "data": {
            "text/plain": [
              "model.safetensors:   0%|          | 0.00/440M [00:00<?, ?B/s]"
            ],
            "application/vnd.jupyter.widget-view+json": {
              "version_major": 2,
              "version_minor": 0,
              "model_id": "2c5ed641083a45ed9bde98ee8678c9b4"
            }
          },
          "metadata": {}
        },
        {
          "output_type": "stream",
          "name": "stderr",
          "text": [
            "/usr/local/lib/python3.10/dist-packages/transformers/optimization.py:411: FutureWarning: This implementation of AdamW is deprecated and will be removed in a future version. Use the PyTorch implementation torch.optim.AdamW instead, or set `no_deprecation_warning=True` to disable this warning\n",
            "  warnings.warn(\n"
          ]
        }
      ]
    },
    {
      "cell_type": "code",
      "source": [
        "from tqdm import tqdm\n",
        "\n",
        "def train(model, loader):\n",
        "    model.train()\n",
        "    total_loss = 0\n",
        "    for batch in tqdm(loader, desc=\"Training\", leave=False):\n",
        "        optimizer.zero_grad()\n",
        "        output = model(batch['english'])\n",
        "        loss = criterion(output.transpose(1, 2), batch['french'])\n",
        "        loss.backward()\n",
        "        optimizer.step()\n",
        "        total_loss += loss.item()\n",
        "    return total_loss / len(loader)\n",
        "\n",
        "def validate(model, loader):\n",
        "    model.eval()\n",
        "    total_loss = 0\n",
        "    with torch.no_grad():\n",
        "        for batch in tqdm(loader, desc=\"Validation\", leave=False):\n",
        "            output = model(batch['english'])\n",
        "            loss = criterion(output.transpose(1, 2), batch['french'])\n",
        "            total_loss += loss.item()\n",
        "    return total_loss / len(loader)\n",
        "\n",
        "\n",
        "\n",
        "train_losses, val_losses = [], []\n",
        "\n",
        "epochs = 20\n",
        "for epoch in range(epochs):\n",
        "    train_loss = train(model, train_loader)\n",
        "    val_loss = validate(model, val_loader)\n",
        "    train_losses.append(train_loss)\n",
        "    val_losses.append(val_loss)\n",
        "    print(f\"Epoch {epoch + 1}, Train Loss: {train_loss}, Validation Loss: {val_loss}\")\n",
        "\n",
        "\n"
      ],
      "metadata": {
        "id": "z9Gt4GIC8Gwx"
      },
      "execution_count": null,
      "outputs": []
    },
    {
      "cell_type": "code",
      "source": [
        "from tqdm import tqdm\n",
        "\n",
        "def train(model, loader):\n",
        "    model.train()\n",
        "    total_loss = 0\n",
        "    for batch in tqdm(loader, desc=\"Training\", leave=False):\n",
        "        optimizer.zero_grad()\n",
        "        output = model(batch['english'])\n",
        "        loss = criterion(output.transpose(1, 2), batch['french'])\n",
        "        loss.backward()\n",
        "        optimizer.step()\n",
        "        total_loss += loss.item()\n",
        "    return total_loss / len(loader)\n",
        "\n",
        "def validate(model, loader):\n",
        "    model.eval()\n",
        "    total_loss = 0\n",
        "    with torch.no_grad():\n",
        "        for batch in tqdm(loader, desc=\"Validation\", leave=False):\n",
        "            output = model(batch['english'])\n",
        "            loss = criterion(output.transpose(1, 2), batch['french'])\n",
        "            total_loss += loss.item()\n",
        "    return total_loss / len(loader)\n",
        "\n",
        "\n",
        "\n",
        "train_losses, val_losses = [], []\n",
        "\n",
        "epochs = 20\n",
        "for epoch in range(epochs):\n",
        "    train_loss = train(model, train_loader)\n",
        "    val_loss = validate(model, val_loader)\n",
        "    train_losses.append(train_loss)\n",
        "    val_losses.append(val_loss)\n",
        "    print(f\"Epoch {epoch + 1}, Train Loss: {train_loss}, Validation Loss: {val_loss}\")\n",
        "\n",
        "\n",
        "\n"
      ],
      "metadata": {
        "colab": {
          "base_uri": "https://localhost:8080/"
        },
        "id": "cUsn1d3aFkQx",
        "outputId": "e11a5577-a399-497e-ead8-0186f59fb85b"
      },
      "execution_count": null,
      "outputs": [
        {
          "output_type": "stream",
          "name": "stdout",
          "text": [
            "Epoch 01 - Train Loss: 1.092, Val. Loss: 0.863\n",
            "Epoch 02 - Train Loss: 0.723, Val. Loss: 0.799\n",
            "Epoch 03 - Train Loss: 0.667, Val. Loss: 0.755\n",
            "Epoch 04 - Train Loss: 0.639, Val. Loss: 0.744\n",
            "Epoch 05 - Train Loss: 0.622, Val. Loss: 0.720\n",
            "Epoch 06 - Train Loss: 0.616, Val. Loss: 0.715\n",
            "Epoch 07 - Train Loss: 0.606, Val. Loss: 0.712\n",
            "Epoch 08 - Train Loss: 0.599, Val. Loss: 0.705\n",
            "Epoch 09 - Train Loss: 0.592, Val. Loss: 0.709\n",
            "Epoch 10 - Train Loss: 0.585, Val. Loss: 0.714\n",
            "Epoch 11 - Train Loss: 0.584, Val. Loss: 0.704\n",
            "Epoch 12 - Train Loss: 0.577, Val. Loss: 0.728\n",
            "Epoch 13 - Train Loss: 0.577, Val. Loss: 0.724\n",
            "Epoch 14 - Train Loss: 0.571, Val. Loss: 0.728\n",
            "Epoch 15 - Train Loss: 0.572, Val. Loss: 0.720\n",
            "Epoch 16 - Train Loss: 0.575, Val. Loss: 0.700\n",
            "Epoch 17 - Train Loss: 0.571, Val. Loss: 0.699\n",
            "Epoch 18 - Train Loss: 0.570, Val. Loss: 0.720\n",
            "Epoch 19 - Train Loss: 0.571, Val. Loss: 0.702\n",
            "Epoch 20 - Train Loss: 0.570, Val. Loss: 0.699\n"
          ]
        }
      ]
    },
    {
      "cell_type": "code",
      "source": [
        "import matplotlib.pyplot as plt\n",
        "\n",
        "epochs = range(1, 21)\n",
        "\n",
        "plt.figure(figsize=(12, 5))\n",
        "\n",
        "\n",
        "plt.plot(epochs, train_losses, label='Training Loss')\n",
        "plt.plot(epochs, val_losses, label='Validation Loss')\n",
        "plt.title('Training and Validation Loss')\n",
        "plt.xlabel('Epochs')\n",
        "plt.ylabel('Loss')\n",
        "plt.legend()\n",
        "\n",
        "plt.tight_layout()\n",
        "plt.show()"
      ],
      "metadata": {
        "colab": {
          "base_uri": "https://localhost:8080/",
          "height": 370
        },
        "id": "_Cu1NmOOCmCH",
        "outputId": "1dc41431-3b41-4e51-9926-297f9afc5f44"
      },
      "execution_count": null,
      "outputs": [
        {
          "output_type": "display_data",
          "data": {
            "text/plain": [
              "<Figure size 1200x500 with 1 Axes>"
            ],
            "image/png": "[encoded data removed]"
          },
          "metadata": {}
        }
      ]
    },
    {
      "cell_type": "code",
      "source": [
        "from torchtext.data.metrics import bleu_score\n",
        "def calculate_bleu(data_loader, model, SRC_VOCAB, TRG_VOCAB, SRC, TRG, device):\n",
        "    targets = []\n",
        "    outputs = []\n",
        "\n",
        "    model.eval()\n",
        "    with torch.no_grad():\n",
        "        for _, batch in enumerate(data_loader):\n",
        "            src, trg = batch\n",
        "            src = src.to(device)\n",
        "            trg = trg.to(device)\n",
        "\n",
        "            output = model(src, trg, 0)\n",
        "\n",
        "            output = output.argmax(2).cpu().numpy()\n",
        "            trg = trg.cpu().numpy()\n",
        "\n",
        "            for i in range(output.shape[1]):\n",
        "                trg_sent = [TRG_VOCAB.lookup_token(token) for token in trg[:, i] if token != TRG_VOCAB['<pad>']]\n",
        "                output_sent = [TRG_VOCAB.lookup_token(token) for token in output[1:, i] if token != TRG_VOCAB['<pad>']]\n",
        "                targets.append([trg_sent])\n",
        "                outputs.append(output_sent)\n",
        "\n",
        "    return bleu_score(outputs, targets)\n",
        "bleu_score = calculate_bleu(test_loader, model, SRC_VOCAB, TRG_VOCAB, SRC, TRG, device)\n",
        "print(f'BLEU Score: {bleu_score*100:.2f}')\n"
      ],
      "metadata": {
        "id": "3IalUz7hDx1j",
        "colab": {
          "base_uri": "https://localhost:8080/"
        },
        "outputId": "b6b32543-f3b2-4ab4-d015-b3c7d5ad7100"
      },
      "execution_count": 29,
      "outputs": [
        {
          "output_type": "stream",
          "name": "stdout",
          "text": [
            "BLEU Score: 31.97\n"
          ]
        }
      ]
    }
  ],
  "metadata": {
    "accelerator": "TPU",
    "colab": {
      "machine_shape": "hm",
      "provenance": []
    },
    "kernelspec": {
      "display_name": "Python 3",
      "name": "python3"
    },
    "language_info": {
      "name": "python"
    },
    "widgets": {
      "application/vnd.jupyter.widget-state+json": {
        "25cb05b2ee814d36b9d14146d33926bf": {
          "model_module": "@jupyter-widgets/controls",
          "model_name": "HBoxModel",
          "model_module_version": "1.5.0",
          "state": {
            "_dom_classes": [],
            "_model_module": "@jupyter-widgets/controls",
            "_model_module_version": "1.5.0",
            "_model_name": "HBoxModel",
            "_view_count": null,
            "_view_module": "@jupyter-widgets/controls",
            "_view_module_version": "1.5.0",
            "_view_name": "HBoxView",
            "box_style": "",
            "children": [
              "IPY_MODEL_91fbfab4b17248349cdcf39ce205c843",
              "IPY_MODEL_5291edf3cd2547b5800e16edd27b278f",
              "IPY_MODEL_163828fee33249258b594d7f2fb73899"
            ],
            "layout": "IPY_MODEL_5c3383870b9c46569ba5caada35c01b2"
          }
        },
        "91fbfab4b17248349cdcf39ce205c843": {
          "model_module": "@jupyter-widgets/controls",
          "model_name": "HTMLModel",
          "model_module_version": "1.5.0",
          "state": {
            "_dom_classes": [],
            "_model_module": "@jupyter-widgets/controls",
            "_model_module_version": "1.5.0",
            "_model_name": "HTMLModel",
            "_view_count": null,
            "_view_module": "@jupyter-widgets/controls",
            "_view_module_version": "1.5.0",
            "_view_name": "HTMLView",
            "description": "",
            "description_tooltip": null,
            "layout": "IPY_MODEL_6200a7fd73f74e2fb0c7dbe7ec6bf1d3",
            "placeholder": "​",
            "style": "IPY_MODEL_19f870191864422db65d6ee3120bc49b",
            "value": "tokenizer_config.json: 100%"
          }
        },
        "5291edf3cd2547b5800e16edd27b278f": {
          "model_module": "@jupyter-widgets/controls",
          "model_name": "FloatProgressModel",
          "model_module_version": "1.5.0",
          "state": {
            "_dom_classes": [],
            "_model_module": "@jupyter-widgets/controls",
            "_model_module_version": "1.5.0",
            "_model_name": "FloatProgressModel",
            "_view_count": null,
            "_view_module": "@jupyter-widgets/controls",
            "_view_module_version": "1.5.0",
            "_view_name": "ProgressView",
            "bar_style": "success",
            "description": "",
            "description_tooltip": null,
            "layout": "IPY_MODEL_122babe5ec9b4d0598bfc1518f8be0fb",
            "max": 28,
            "min": 0,
            "orientation": "horizontal",
            "style": "IPY_MODEL_56ff1bc2a9164341b962eea808bc6dbc",
            "value": 28
          }
        },
        "163828fee33249258b594d7f2fb73899": {
          "model_module": "@jupyter-widgets/controls",
          "model_name": "HTMLModel",
          "model_module_version": "1.5.0",
          "state": {
            "_dom_classes": [],
            "_model_module": "@jupyter-widgets/controls",
            "_model_module_version": "1.5.0",
            "_model_name": "HTMLModel",
            "_view_count": null,
            "_view_module": "@jupyter-widgets/controls",
            "_view_module_version": "1.5.0",
            "_view_name": "HTMLView",
            "description": "",
            "description_tooltip": null,
            "layout": "IPY_MODEL_77b66238a1174710913d489fbe01af4e",
            "placeholder": "​",
            "style": "IPY_MODEL_ee2d59e21a4c43f998cc3614f493cede",
            "value": " 28.0/28.0 [00:00&lt;00:00, 2.12kB/s]"
          }
        },
        "5c3383870b9c46569ba5caada35c01b2": {
          "model_module": "@jupyter-widgets/base",
          "model_name": "LayoutModel",
          "model_module_version": "1.2.0",
          "state": {
            "_model_module": "@jupyter-widgets/base",
            "_model_module_version": "1.2.0",
            "_model_name": "LayoutModel",
            "_view_count": null,
            "_view_module": "@jupyter-widgets/base",
            "_view_module_version": "1.2.0",
            "_view_name": "LayoutView",
            "align_content": null,
            "align_items": null,
            "align_self": null,
            "border": null,
            "bottom": null,
            "display": null,
            "flex": null,
            "flex_flow": null,
            "grid_area": null,
            "grid_auto_columns": null,
            "grid_auto_flow": null,
            "grid_auto_rows": null,
            "grid_column": null,
            "grid_gap": null,
            "grid_row": null,
            "grid_template_areas": null,
            "grid_template_columns": null,
            "grid_template_rows": null,
            "height": null,
            "justify_content": null,
            "justify_items": null,
            "left": null,
            "margin": null,
            "max_height": null,
            "max_width": null,
            "min_height": null,
            "min_width": null,
            "object_fit": null,
            "object_position": null,
            "order": null,
            "overflow": null,
            "overflow_x": null,
            "overflow_y": null,
            "padding": null,
            "right": null,
            "top": null,
            "visibility": null,
            "width": null
          }
        },
        "6200a7fd73f74e2fb0c7dbe7ec6bf1d3": {
          "model_module": "@jupyter-widgets/base",
          "model_name": "LayoutModel",
          "model_module_version": "1.2.0",
          "state": {
            "_model_module": "@jupyter-widgets/base",
            "_model_module_version": "1.2.0",
            "_model_name": "LayoutModel",
            "_view_count": null,
            "_view_module": "@jupyter-widgets/base",
            "_view_module_version": "1.2.0",
            "_view_name": "LayoutView",
            "align_content": null,
            "align_items": null,
            "align_self": null,
            "border": null,
            "bottom": null,
            "display": null,
            "flex": null,
            "flex_flow": null,
            "grid_area": null,
            "grid_auto_columns": null,
            "grid_auto_flow": null,
            "grid_auto_rows": null,
            "grid_column": null,
            "grid_gap": null,
            "grid_row": null,
            "grid_template_areas": null,
            "grid_template_columns": null,
            "grid_template_rows": null,
            "height": null,
            "justify_content": null,
            "justify_items": null,
            "left": null,
            "margin": null,
            "max_height": null,
            "max_width": null,
            "min_height": null,
            "min_width": null,
            "object_fit": null,
            "object_position": null,
            "order": null,
            "overflow": null,
            "overflow_x": null,
            "overflow_y": null,
            "padding": null,
            "right": null,
            "top": null,
            "visibility": null,
            "width": null
          }
        },
        "19f870191864422db65d6ee3120bc49b": {
          "model_module": "@jupyter-widgets/controls",
          "model_name": "DescriptionStyleModel",
          "model_module_version": "1.5.0",
          "state": {
            "_model_module": "@jupyter-widgets/controls",
            "_model_module_version": "1.5.0",
            "_model_name": "DescriptionStyleModel",
            "_view_count": null,
            "_view_module": "@jupyter-widgets/base",
            "_view_module_version": "1.2.0",
            "_view_name": "StyleView",
            "description_width": ""
          }
        },
        "122babe5ec9b4d0598bfc1518f8be0fb": {
          "model_module": "@jupyter-widgets/base",
          "model_name": "LayoutModel",
          "model_module_version": "1.2.0",
          "state": {
            "_model_module": "@jupyter-widgets/base",
            "_model_module_version": "1.2.0",
            "_model_name": "LayoutModel",
            "_view_count": null,
            "_view_module": "@jupyter-widgets/base",
            "_view_module_version": "1.2.0",
            "_view_name": "LayoutView",
            "align_content": null,
            "align_items": null,
            "align_self": null,
            "border": null,
            "bottom": null,
            "display": null,
            "flex": null,
            "flex_flow": null,
            "grid_area": null,
            "grid_auto_columns": null,
            "grid_auto_flow": null,
            "grid_auto_rows": null,
            "grid_column": null,
            "grid_gap": null,
            "grid_row": null,
            "grid_template_areas": null,
            "grid_template_columns": null,
            "grid_template_rows": null,
            "height": null,
            "justify_content": null,
            "justify_items": null,
            "left": null,
            "margin": null,
            "max_height": null,
            "max_width": null,
            "min_height": null,
            "min_width": null,
            "object_fit": null,
            "object_position": null,
            "order": null,
            "overflow": null,
            "overflow_x": null,
            "overflow_y": null,
            "padding": null,
            "right": null,
            "top": null,
            "visibility": null,
            "width": null
          }
        },
        "56ff1bc2a9164341b962eea808bc6dbc": {
          "model_module": "@jupyter-widgets/controls",
          "model_name": "ProgressStyleModel",
          "model_module_version": "1.5.0",
          "state": {
            "_model_module": "@jupyter-widgets/controls",
            "_model_module_version": "1.5.0",
            "_model_name": "ProgressStyleModel",
            "_view_count": null,
            "_view_module": "@jupyter-widgets/base",
            "_view_module_version": "1.2.0",
            "_view_name": "StyleView",
            "bar_color": null,
            "description_width": ""
          }
        },
        "77b66238a1174710913d489fbe01af4e": {
          "model_module": "@jupyter-widgets/base",
          "model_name": "LayoutModel",
          "model_module_version": "1.2.0",
          "state": {
            "_model_module": "@jupyter-widgets/base",
            "_model_module_version": "1.2.0",
            "_model_name": "LayoutModel",
            "_view_count": null,
            "_view_module": "@jupyter-widgets/base",
            "_view_module_version": "1.2.0",
            "_view_name": "LayoutView",
            "align_content": null,
            "align_items": null,
            "align_self": null,
            "border": null,
            "bottom": null,
            "display": null,
            "flex": null,
            "flex_flow": null,
            "grid_area": null,
            "grid_auto_columns": null,
            "grid_auto_flow": null,
            "grid_auto_rows": null,
            "grid_column": null,
            "grid_gap": null,
            "grid_row": null,
            "grid_template_areas": null,
            "grid_template_columns": null,
            "grid_template_rows": null,
            "height": null,
            "justify_content": null,
            "justify_items": null,
            "left": null,
            "margin": null,
            "max_height": null,
            "max_width": null,
            "min_height": null,
            "min_width": null,
            "object_fit": null,
            "object_position": null,
            "order": null,
            "overflow": null,
            "overflow_x": null,
            "overflow_y": null,
            "padding": null,
            "right": null,
            "top": null,
            "visibility": null,
            "width": null
          }
        },
        "ee2d59e21a4c43f998cc3614f493cede": {
          "model_module": "@jupyter-widgets/controls",
          "model_name": "DescriptionStyleModel",
          "model_module_version": "1.5.0",
          "state": {
            "_model_module": "@jupyter-widgets/controls",
            "_model_module_version": "1.5.0",
            "_model_name": "DescriptionStyleModel",
            "_view_count": null,
            "_view_module": "@jupyter-widgets/base",
            "_view_module_version": "1.2.0",
            "_view_name": "StyleView",
            "description_width": ""
          }
        },
        "00abdd1c5665409eb214979014b02d5e": {
          "model_module": "@jupyter-widgets/controls",
          "model_name": "HBoxModel",
          "model_module_version": "1.5.0",
          "state": {
            "_dom_classes": [],
            "_model_module": "@jupyter-widgets/controls",
            "_model_module_version": "1.5.0",
            "_model_name": "HBoxModel",
            "_view_count": null,
            "_view_module": "@jupyter-widgets/controls",
            "_view_module_version": "1.5.0",
            "_view_name": "HBoxView",
            "box_style": "",
            "children": [
              "IPY_MODEL_19115ebd39f8438396844493c3195d13",
              "IPY_MODEL_6d2b16ca4f46405c8ff3d6532a77fb89",
              "IPY_MODEL_db16c3cd39ea4e3abb9d5546acc273a9"
            ],
            "layout": "IPY_MODEL_1e6fb5fb39f74d96ac0e1cb13a7f1aa6"
          }
        },
        "19115ebd39f8438396844493c3195d13": {
          "model_module": "@jupyter-widgets/controls",
          "model_name": "HTMLModel",
          "model_module_version": "1.5.0",
          "state": {
            "_dom_classes": [],
            "_model_module": "@jupyter-widgets/controls",
            "_model_module_version": "1.5.0",
            "_model_name": "HTMLModel",
            "_view_count": null,
            "_view_module": "@jupyter-widgets/controls",
            "_view_module_version": "1.5.0",
            "_view_name": "HTMLView",
            "description": "",
            "description_tooltip": null,
            "layout": "IPY_MODEL_47a380bb1a604a738cdb42dc9912cfcf",
            "placeholder": "​",
            "style": "IPY_MODEL_448c87e8f279414c9805ea861ae17482",
            "value": "vocab.txt: 100%"
          }
        },
        "6d2b16ca4f46405c8ff3d6532a77fb89": {
          "model_module": "@jupyter-widgets/controls",
          "model_name": "FloatProgressModel",
          "model_module_version": "1.5.0",
          "state": {
            "_dom_classes": [],
            "_model_module": "@jupyter-widgets/controls",
            "_model_module_version": "1.5.0",
            "_model_name": "FloatProgressModel",
            "_view_count": null,
            "_view_module": "@jupyter-widgets/controls",
            "_view_module_version": "1.5.0",
            "_view_name": "ProgressView",
            "bar_style": "success",
            "description": "",
            "description_tooltip": null,
            "layout": "IPY_MODEL_f334896006164b7c9b93898b31675bcf",
            "max": 231508,
            "min": 0,
            "orientation": "horizontal",
            "style": "IPY_MODEL_9ddd70ea613b4cb98bece2404dfab5e5",
            "value": 231508
          }
        },
        "db16c3cd39ea4e3abb9d5546acc273a9": {
          "model_module": "@jupyter-widgets/controls",
          "model_name": "HTMLModel",
          "model_module_version": "1.5.0",
          "state": {
            "_dom_classes": [],
            "_model_module": "@jupyter-widgets/controls",
            "_model_module_version": "1.5.0",
            "_model_name": "HTMLModel",
            "_view_count": null,
            "_view_module": "@jupyter-widgets/controls",
            "_view_module_version": "1.5.0",
            "_view_name": "HTMLView",
            "description": "",
            "description_tooltip": null,
            "layout": "IPY_MODEL_39a546fbc02b4fa195001ffe58ffdb6e",
            "placeholder": "​",
            "style": "IPY_MODEL_b547a743f2ab464d85bbbaeb8824b694",
            "value": " 232k/232k [00:00&lt;00:00, 5.37MB/s]"
          }
        },
        "1e6fb5fb39f74d96ac0e1cb13a7f1aa6": {
          "model_module": "@jupyter-widgets/base",
          "model_name": "LayoutModel",
          "model_module_version": "1.2.0",
          "state": {
            "_model_module": "@jupyter-widgets/base",
            "_model_module_version": "1.2.0",
            "_model_name": "LayoutModel",
            "_view_count": null,
            "_view_module": "@jupyter-widgets/base",
            "_view_module_version": "1.2.0",
            "_view_name": "LayoutView",
            "align_content": null,
            "align_items": null,
            "align_self": null,
            "border": null,
            "bottom": null,
            "display": null,
            "flex": null,
            "flex_flow": null,
            "grid_area": null,
            "grid_auto_columns": null,
            "grid_auto_flow": null,
            "grid_auto_rows": null,
            "grid_column": null,
            "grid_gap": null,
            "grid_row": null,
            "grid_template_areas": null,
            "grid_template_columns": null,
            "grid_template_rows": null,
            "height": null,
            "justify_content": null,
            "justify_items": null,
            "left": null,
            "margin": null,
            "max_height": null,
            "max_width": null,
            "min_height": null,
            "min_width": null,
            "object_fit": null,
            "object_position": null,
            "order": null,
            "overflow": null,
            "overflow_x": null,
            "overflow_y": null,
            "padding": null,
            "right": null,
            "top": null,
            "visibility": null,
            "width": null
          }
        },
        "47a380bb1a604a738cdb42dc9912cfcf": {
          "model_module": "@jupyter-widgets/base",
          "model_name": "LayoutModel",
          "model_module_version": "1.2.0",
          "state": {
            "_model_module": "@jupyter-widgets/base",
            "_model_module_version": "1.2.0",
            "_model_name": "LayoutModel",
            "_view_count": null,
            "_view_module": "@jupyter-widgets/base",
            "_view_module_version": "1.2.0",
            "_view_name": "LayoutView",
            "align_content": null,
            "align_items": null,
            "align_self": null,
            "border": null,
            "bottom": null,
            "display": null,
            "flex": null,
            "flex_flow": null,
            "grid_area": null,
            "grid_auto_columns": null,
            "grid_auto_flow": null,
            "grid_auto_rows": null,
            "grid_column": null,
            "grid_gap": null,
            "grid_row": null,
            "grid_template_areas": null,
            "grid_template_columns": null,
            "grid_template_rows": null,
            "height": null,
            "justify_content": null,
            "justify_items": null,
            "left": null,
            "margin": null,
            "max_height": null,
            "max_width": null,
            "min_height": null,
            "min_width": null,
            "object_fit": null,
            "object_position": null,
            "order": null,
            "overflow": null,
            "overflow_x": null,
            "overflow_y": null,
            "padding": null,
            "right": null,
            "top": null,
            "visibility": null,
            "width": null
          }
        },
        "448c87e8f279414c9805ea861ae17482": {
          "model_module": "@jupyter-widgets/controls",
          "model_name": "DescriptionStyleModel",
          "model_module_version": "1.5.0",
          "state": {
            "_model_module": "@jupyter-widgets/controls",
            "_model_module_version": "1.5.0",
            "_model_name": "DescriptionStyleModel",
            "_view_count": null,
            "_view_module": "@jupyter-widgets/base",
            "_view_module_version": "1.2.0",
            "_view_name": "StyleView",
            "description_width": ""
          }
        },
        "f334896006164b7c9b93898b31675bcf": {
          "model_module": "@jupyter-widgets/base",
          "model_name": "LayoutModel",
          "model_module_version": "1.2.0",
          "state": {
            "_model_module": "@jupyter-widgets/base",
            "_model_module_version": "1.2.0",
            "_model_name": "LayoutModel",
            "_view_count": null,
            "_view_module": "@jupyter-widgets/base",
            "_view_module_version": "1.2.0",
            "_view_name": "LayoutView",
            "align_content": null,
            "align_items": null,
            "align_self": null,
            "border": null,
            "bottom": null,
            "display": null,
            "flex": null,
            "flex_flow": null,
            "grid_area": null,
            "grid_auto_columns": null,
            "grid_auto_flow": null,
            "grid_auto_rows": null,
            "grid_column": null,
            "grid_gap": null,
            "grid_row": null,
            "grid_template_areas": null,
            "grid_template_columns": null,
            "grid_template_rows": null,
            "height": null,
            "justify_content": null,
            "justify_items": null,
            "left": null,
            "margin": null,
            "max_height": null,
            "max_width": null,
            "min_height": null,
            "min_width": null,
            "object_fit": null,
            "object_position": null,
            "order": null,
            "overflow": null,
            "overflow_x": null,
            "overflow_y": null,
            "padding": null,
            "right": null,
            "top": null,
            "visibility": null,
            "width": null
          }
        },
        "9ddd70ea613b4cb98bece2404dfab5e5": {
          "model_module": "@jupyter-widgets/controls",
          "model_name": "ProgressStyleModel",
          "model_module_version": "1.5.0",
          "state": {
            "_model_module": "@jupyter-widgets/controls",
            "_model_module_version": "1.5.0",
            "_model_name": "ProgressStyleModel",
            "_view_count": null,
            "_view_module": "@jupyter-widgets/base",
            "_view_module_version": "1.2.0",
            "_view_name": "StyleView",
            "bar_color": null,
            "description_width": ""
          }
        },
        "39a546fbc02b4fa195001ffe58ffdb6e": {
          "model_module": "@jupyter-widgets/base",
          "model_name": "LayoutModel",
          "model_module_version": "1.2.0",
          "state": {
            "_model_module": "@jupyter-widgets/base",
            "_model_module_version": "1.2.0",
            "_model_name": "LayoutModel",
            "_view_count": null,
            "_view_module": "@jupyter-widgets/base",
            "_view_module_version": "1.2.0",
            "_view_name": "LayoutView",
            "align_content": null,
            "align_items": null,
            "align_self": null,
            "border": null,
            "bottom": null,
            "display": null,
            "flex": null,
            "flex_flow": null,
            "grid_area": null,
            "grid_auto_columns": null,
            "grid_auto_flow": null,
            "grid_auto_rows": null,
            "grid_column": null,
            "grid_gap": null,
            "grid_row": null,
            "grid_template_areas": null,
            "grid_template_columns": null,
            "grid_template_rows": null,
            "height": null,
            "justify_content": null,
            "justify_items": null,
            "left": null,
            "margin": null,
            "max_height": null,
            "max_width": null,
            "min_height": null,
            "min_width": null,
            "object_fit": null,
            "object_position": null,
            "order": null,
            "overflow": null,
            "overflow_x": null,
            "overflow_y": null,
            "padding": null,
            "right": null,
            "top": null,
            "visibility": null,
            "width": null
          }
        },
        "b547a743f2ab464d85bbbaeb8824b694": {
          "model_module": "@jupyter-widgets/controls",
          "model_name": "DescriptionStyleModel",
          "model_module_version": "1.5.0",
          "state": {
            "_model_module": "@jupyter-widgets/controls",
            "_model_module_version": "1.5.0",
            "_model_name": "DescriptionStyleModel",
            "_view_count": null,
            "_view_module": "@jupyter-widgets/base",
            "_view_module_version": "1.2.0",
            "_view_name": "StyleView",
            "description_width": ""
          }
        },
        "0b68026fd9d64192842c2339c6a40ff6": {
          "model_module": "@jupyter-widgets/controls",
          "model_name": "HBoxModel",
          "model_module_version": "1.5.0",
          "state": {
            "_dom_classes": [],
            "_model_module": "@jupyter-widgets/controls",
            "_model_module_version": "1.5.0",
            "_model_name": "HBoxModel",
            "_view_count": null,
            "_view_module": "@jupyter-widgets/controls",
            "_view_module_version": "1.5.0",
            "_view_name": "HBoxView",
            "box_style": "",
            "children": [
              "IPY_MODEL_fd1f753ed7b74bf4b2f325e1b160371a",
              "IPY_MODEL_ba25195a9ec24ae49190387a13ee6cdd",
              "IPY_MODEL_c7530508df4444f9981a6d7fc5a7264f"
            ],
            "layout": "IPY_MODEL_46de15fede454f42ac1a98c3e106e12b"
          }
        },
        "fd1f753ed7b74bf4b2f325e1b160371a": {
          "model_module": "@jupyter-widgets/controls",
          "model_name": "HTMLModel",
          "model_module_version": "1.5.0",
          "state": {
            "_dom_classes": [],
            "_model_module": "@jupyter-widgets/controls",
            "_model_module_version": "1.5.0",
            "_model_name": "HTMLModel",
            "_view_count": null,
            "_view_module": "@jupyter-widgets/controls",
            "_view_module_version": "1.5.0",
            "_view_name": "HTMLView",
            "description": "",
            "description_tooltip": null,
            "layout": "IPY_MODEL_9228344c17c64f568a405dbcc27149c5",
            "placeholder": "​",
            "style": "IPY_MODEL_54188a3b4a2e4495bc4fb4dd8e1d4e2d",
            "value": "tokenizer.json: 100%"
          }
        },
        "ba25195a9ec24ae49190387a13ee6cdd": {
          "model_module": "@jupyter-widgets/controls",
          "model_name": "FloatProgressModel",
          "model_module_version": "1.5.0",
          "state": {
            "_dom_classes": [],
            "_model_module": "@jupyter-widgets/controls",
            "_model_module_version": "1.5.0",
            "_model_name": "FloatProgressModel",
            "_view_count": null,
            "_view_module": "@jupyter-widgets/controls",
            "_view_module_version": "1.5.0",
            "_view_name": "ProgressView",
            "bar_style": "success",
            "description": "",
            "description_tooltip": null,
            "layout": "IPY_MODEL_261c2c89034a474fa1f294a2869aaeda",
            "max": 466062,
            "min": 0,
            "orientation": "horizontal",
            "style": "IPY_MODEL_d0025008ebb14e8a8cea6577bfaec368",
            "value": 466062
          }
        },
        "c7530508df4444f9981a6d7fc5a7264f": {
          "model_module": "@jupyter-widgets/controls",
          "model_name": "HTMLModel",
          "model_module_version": "1.5.0",
          "state": {
            "_dom_classes": [],
            "_model_module": "@jupyter-widgets/controls",
            "_model_module_version": "1.5.0",
            "_model_name": "HTMLModel",
            "_view_count": null,
            "_view_module": "@jupyter-widgets/controls",
            "_view_module_version": "1.5.0",
            "_view_name": "HTMLView",
            "description": "",
            "description_tooltip": null,
            "layout": "IPY_MODEL_c95fa54e81bd42a099f2fcb88adf8698",
            "placeholder": "​",
            "style": "IPY_MODEL_21fbd27ba8044fc4acf99bd42159b7d5",
            "value": " 466k/466k [00:00&lt;00:00, 21.1MB/s]"
          }
        },
        "46de15fede454f42ac1a98c3e106e12b": {
          "model_module": "@jupyter-widgets/base",
          "model_name": "LayoutModel",
          "model_module_version": "1.2.0",
          "state": {
            "_model_module": "@jupyter-widgets/base",
            "_model_module_version": "1.2.0",
            "_model_name": "LayoutModel",
            "_view_count": null,
            "_view_module": "@jupyter-widgets/base",
            "_view_module_version": "1.2.0",
            "_view_name": "LayoutView",
            "align_content": null,
            "align_items": null,
            "align_self": null,
            "border": null,
            "bottom": null,
            "display": null,
            "flex": null,
            "flex_flow": null,
            "grid_area": null,
            "grid_auto_columns": null,
            "grid_auto_flow": null,
            "grid_auto_rows": null,
            "grid_column": null,
            "grid_gap": null,
            "grid_row": null,
            "grid_template_areas": null,
            "grid_template_columns": null,
            "grid_template_rows": null,
            "height": null,
            "justify_content": null,
            "justify_items": null,
            "left": null,
            "margin": null,
            "max_height": null,
            "max_width": null,
            "min_height": null,
            "min_width": null,
            "object_fit": null,
            "object_position": null,
            "order": null,
            "overflow": null,
            "overflow_x": null,
            "overflow_y": null,
            "padding": null,
            "right": null,
            "top": null,
            "visibility": null,
            "width": null
          }
        },
        "9228344c17c64f568a405dbcc27149c5": {
          "model_module": "@jupyter-widgets/base",
          "model_name": "LayoutModel",
          "model_module_version": "1.2.0",
          "state": {
            "_model_module": "@jupyter-widgets/base",
            "_model_module_version": "1.2.0",
            "_model_name": "LayoutModel",
            "_view_count": null,
            "_view_module": "@jupyter-widgets/base",
            "_view_module_version": "1.2.0",
            "_view_name": "LayoutView",
            "align_content": null,
            "align_items": null,
            "align_self": null,
            "border": null,
            "bottom": null,
            "display": null,
            "flex": null,
            "flex_flow": null,
            "grid_area": null,
            "grid_auto_columns": null,
            "grid_auto_flow": null,
            "grid_auto_rows": null,
            "grid_column": null,
            "grid_gap": null,
            "grid_row": null,
            "grid_template_areas": null,
            "grid_template_columns": null,
            "grid_template_rows": null,
            "height": null,
            "justify_content": null,
            "justify_items": null,
            "left": null,
            "margin": null,
            "max_height": null,
            "max_width": null,
            "min_height": null,
            "min_width": null,
            "object_fit": null,
            "object_position": null,
            "order": null,
            "overflow": null,
            "overflow_x": null,
            "overflow_y": null,
            "padding": null,
            "right": null,
            "top": null,
            "visibility": null,
            "width": null
          }
        },
        "54188a3b4a2e4495bc4fb4dd8e1d4e2d": {
          "model_module": "@jupyter-widgets/controls",
          "model_name": "DescriptionStyleModel",
          "model_module_version": "1.5.0",
          "state": {
            "_model_module": "@jupyter-widgets/controls",
            "_model_module_version": "1.5.0",
            "_model_name": "DescriptionStyleModel",
            "_view_count": null,
            "_view_module": "@jupyter-widgets/base",
            "_view_module_version": "1.2.0",
            "_view_name": "StyleView",
            "description_width": ""
          }
        },
        "261c2c89034a474fa1f294a2869aaeda": {
          "model_module": "@jupyter-widgets/base",
          "model_name": "LayoutModel",
          "model_module_version": "1.2.0",
          "state": {
            "_model_module": "@jupyter-widgets/base",
            "_model_module_version": "1.2.0",
            "_model_name": "LayoutModel",
            "_view_count": null,
            "_view_module": "@jupyter-widgets/base",
            "_view_module_version": "1.2.0",
            "_view_name": "LayoutView",
            "align_content": null,
            "align_items": null,
            "align_self": null,
            "border": null,
            "bottom": null,
            "display": null,
            "flex": null,
            "flex_flow": null,
            "grid_area": null,
            "grid_auto_columns": null,
            "grid_auto_flow": null,
            "grid_auto_rows": null,
            "grid_column": null,
            "grid_gap": null,
            "grid_row": null,
            "grid_template_areas": null,
            "grid_template_columns": null,
            "grid_template_rows": null,
            "height": null,
            "justify_content": null,
            "justify_items": null,
            "left": null,
            "margin": null,
            "max_height": null,
            "max_width": null,
            "min_height": null,
            "min_width": null,
            "object_fit": null,
            "object_position": null,
            "order": null,
            "overflow": null,
            "overflow_x": null,
            "overflow_y": null,
            "padding": null,
            "right": null,
            "top": null,
            "visibility": null,
            "width": null
          }
        },
        "d0025008ebb14e8a8cea6577bfaec368": {
          "model_module": "@jupyter-widgets/controls",
          "model_name": "ProgressStyleModel",
          "model_module_version": "1.5.0",
          "state": {
            "_model_module": "@jupyter-widgets/controls",
            "_model_module_version": "1.5.0",
            "_model_name": "ProgressStyleModel",
            "_view_count": null,
            "_view_module": "@jupyter-widgets/base",
            "_view_module_version": "1.2.0",
            "_view_name": "StyleView",
            "bar_color": null,
            "description_width": ""
          }
        },
        "c95fa54e81bd42a099f2fcb88adf8698": {
          "model_module": "@jupyter-widgets/base",
          "model_name": "LayoutModel",
          "model_module_version": "1.2.0",
          "state": {
            "_model_module": "@jupyter-widgets/base",
            "_model_module_version": "1.2.0",
            "_model_name": "LayoutModel",
            "_view_count": null,
            "_view_module": "@jupyter-widgets/base",
            "_view_module_version": "1.2.0",
            "_view_name": "LayoutView",
            "align_content": null,
            "align_items": null,
            "align_self": null,
            "border": null,
            "bottom": null,
            "display": null,
            "flex": null,
            "flex_flow": null,
            "grid_area": null,
            "grid_auto_columns": null,
            "grid_auto_flow": null,
            "grid_auto_rows": null,
            "grid_column": null,
            "grid_gap": null,
            "grid_row": null,
            "grid_template_areas": null,
            "grid_template_columns": null,
            "grid_template_rows": null,
            "height": null,
            "justify_content": null,
            "justify_items": null,
            "left": null,
            "margin": null,
            "max_height": null,
            "max_width": null,
            "min_height": null,
            "min_width": null,
            "object_fit": null,
            "object_position": null,
            "order": null,
            "overflow": null,
            "overflow_x": null,
            "overflow_y": null,
            "padding": null,
            "right": null,
            "top": null,
            "visibility": null,
            "width": null
          }
        },
        "21fbd27ba8044fc4acf99bd42159b7d5": {
          "model_module": "@jupyter-widgets/controls",
          "model_name": "DescriptionStyleModel",
          "model_module_version": "1.5.0",
          "state": {
            "_model_module": "@jupyter-widgets/controls",
            "_model_module_version": "1.5.0",
            "_model_name": "DescriptionStyleModel",
            "_view_count": null,
            "_view_module": "@jupyter-widgets/base",
            "_view_module_version": "1.2.0",
            "_view_name": "StyleView",
            "description_width": ""
          }
        },
        "5681a38bbb8f49319703f2cc393a53a2": {
          "model_module": "@jupyter-widgets/controls",
          "model_name": "HBoxModel",
          "model_module_version": "1.5.0",
          "state": {
            "_dom_classes": [],
            "_model_module": "@jupyter-widgets/controls",
            "_model_module_version": "1.5.0",
            "_model_name": "HBoxModel",
            "_view_count": null,
            "_view_module": "@jupyter-widgets/controls",
            "_view_module_version": "1.5.0",
            "_view_name": "HBoxView",
            "box_style": "",
            "children": [
              "IPY_MODEL_c11d61ce693b455b85baf111879f9ffa",
              "IPY_MODEL_81a92d7d7b2341dc97bd0b794cd24ed5",
              "IPY_MODEL_db3cd0db7522430fbb45e288181c1602"
            ],
            "layout": "IPY_MODEL_b2884c153d864800ba0ec5053c350165"
          }
        },
        "c11d61ce693b455b85baf111879f9ffa": {
          "model_module": "@jupyter-widgets/controls",
          "model_name": "HTMLModel",
          "model_module_version": "1.5.0",
          "state": {
            "_dom_classes": [],
            "_model_module": "@jupyter-widgets/controls",
            "_model_module_version": "1.5.0",
            "_model_name": "HTMLModel",
            "_view_count": null,
            "_view_module": "@jupyter-widgets/controls",
            "_view_module_version": "1.5.0",
            "_view_name": "HTMLView",
            "description": "",
            "description_tooltip": null,
            "layout": "IPY_MODEL_793af558146848749ff8d00bcf015469",
            "placeholder": "​",
            "style": "IPY_MODEL_1764647d0adf42ef879e2841e3615f61",
            "value": "config.json: 100%"
          }
        },
        "81a92d7d7b2341dc97bd0b794cd24ed5": {
          "model_module": "@jupyter-widgets/controls",
          "model_name": "FloatProgressModel",
          "model_module_version": "1.5.0",
          "state": {
            "_dom_classes": [],
            "_model_module": "@jupyter-widgets/controls",
            "_model_module_version": "1.5.0",
            "_model_name": "FloatProgressModel",
            "_view_count": null,
            "_view_module": "@jupyter-widgets/controls",
            "_view_module_version": "1.5.0",
            "_view_name": "ProgressView",
            "bar_style": "success",
            "description": "",
            "description_tooltip": null,
            "layout": "IPY_MODEL_21707ff683494e63828041d6ce61e712",
            "max": 570,
            "min": 0,
            "orientation": "horizontal",
            "style": "IPY_MODEL_5f3b87c11ee745e1ba65f420b6455e4c",
            "value": 570
          }
        },
        "db3cd0db7522430fbb45e288181c1602": {
          "model_module": "@jupyter-widgets/controls",
          "model_name": "HTMLModel",
          "model_module_version": "1.5.0",
          "state": {
            "_dom_classes": [],
            "_model_module": "@jupyter-widgets/controls",
            "_model_module_version": "1.5.0",
            "_model_name": "HTMLModel",
            "_view_count": null,
            "_view_module": "@jupyter-widgets/controls",
            "_view_module_version": "1.5.0",
            "_view_name": "HTMLView",
            "description": "",
            "description_tooltip": null,
            "layout": "IPY_MODEL_65acff9da13f4c8fb97f544b8d33293a",
            "placeholder": "​",
            "style": "IPY_MODEL_d833b8bc2a5344f88d6453d7f4312fd2",
            "value": " 570/570 [00:00&lt;00:00, 43.5kB/s]"
          }
        },
        "b2884c153d864800ba0ec5053c350165": {
          "model_module": "@jupyter-widgets/base",
          "model_name": "LayoutModel",
          "model_module_version": "1.2.0",
          "state": {
            "_model_module": "@jupyter-widgets/base",
            "_model_module_version": "1.2.0",
            "_model_name": "LayoutModel",
            "_view_count": null,
            "_view_module": "@jupyter-widgets/base",
            "_view_module_version": "1.2.0",
            "_view_name": "LayoutView",
            "align_content": null,
            "align_items": null,
            "align_self": null,
            "border": null,
            "bottom": null,
            "display": null,
            "flex": null,
            "flex_flow": null,
            "grid_area": null,
            "grid_auto_columns": null,
            "grid_auto_flow": null,
            "grid_auto_rows": null,
            "grid_column": null,
            "grid_gap": null,
            "grid_row": null,
            "grid_template_areas": null,
            "grid_template_columns": null,
            "grid_template_rows": null,
            "height": null,
            "justify_content": null,
            "justify_items": null,
            "left": null,
            "margin": null,
            "max_height": null,
            "max_width": null,
            "min_height": null,
            "min_width": null,
            "object_fit": null,
            "object_position": null,
            "order": null,
            "overflow": null,
            "overflow_x": null,
            "overflow_y": null,
            "padding": null,
            "right": null,
            "top": null,
            "visibility": null,
            "width": null
          }
        },
        "793af558146848749ff8d00bcf015469": {
          "model_module": "@jupyter-widgets/base",
          "model_name": "LayoutModel",
          "model_module_version": "1.2.0",
          "state": {
            "_model_module": "@jupyter-widgets/base",
            "_model_module_version": "1.2.0",
            "_model_name": "LayoutModel",
            "_view_count": null,
            "_view_module": "@jupyter-widgets/base",
            "_view_module_version": "1.2.0",
            "_view_name": "LayoutView",
            "align_content": null,
            "align_items": null,
            "align_self": null,
            "border": null,
            "bottom": null,
            "display": null,
            "flex": null,
            "flex_flow": null,
            "grid_area": null,
            "grid_auto_columns": null,
            "grid_auto_flow": null,
            "grid_auto_rows": null,
            "grid_column": null,
            "grid_gap": null,
            "grid_row": null,
            "grid_template_areas": null,
            "grid_template_columns": null,
            "grid_template_rows": null,
            "height": null,
            "justify_content": null,
            "justify_items": null,
            "left": null,
            "margin": null,
            "max_height": null,
            "max_width": null,
            "min_height": null,
            "min_width": null,
            "object_fit": null,
            "object_position": null,
            "order": null,
            "overflow": null,
            "overflow_x": null,
            "overflow_y": null,
            "padding": null,
            "right": null,
            "top": null,
            "visibility": null,
            "width": null
          }
        },
        "1764647d0adf42ef879e2841e3615f61": {
          "model_module": "@jupyter-widgets/controls",
          "model_name": "DescriptionStyleModel",
          "model_module_version": "1.5.0",
          "state": {
            "_model_module": "@jupyter-widgets/controls",
            "_model_module_version": "1.5.0",
            "_model_name": "DescriptionStyleModel",
            "_view_count": null,
            "_view_module": "@jupyter-widgets/base",
            "_view_module_version": "1.2.0",
            "_view_name": "StyleView",
            "description_width": ""
          }
        },
        "21707ff683494e63828041d6ce61e712": {
          "model_module": "@jupyter-widgets/base",
          "model_name": "LayoutModel",
          "model_module_version": "1.2.0",
          "state": {
            "_model_module": "@jupyter-widgets/base",
            "_model_module_version": "1.2.0",
            "_model_name": "LayoutModel",
            "_view_count": null,
            "_view_module": "@jupyter-widgets/base",
            "_view_module_version": "1.2.0",
            "_view_name": "LayoutView",
            "align_content": null,
            "align_items": null,
            "align_self": null,
            "border": null,
            "bottom": null,
            "display": null,
            "flex": null,
            "flex_flow": null,
            "grid_area": null,
            "grid_auto_columns": null,
            "grid_auto_flow": null,
            "grid_auto_rows": null,
            "grid_column": null,
            "grid_gap": null,
            "grid_row": null,
            "grid_template_areas": null,
            "grid_template_columns": null,
            "grid_template_rows": null,
            "height": null,
            "justify_content": null,
            "justify_items": null,
            "left": null,
            "margin": null,
            "max_height": null,
            "max_width": null,
            "min_height": null,
            "min_width": null,
            "object_fit": null,
            "object_position": null,
            "order": null,
            "overflow": null,
            "overflow_x": null,
            "overflow_y": null,
            "padding": null,
            "right": null,
            "top": null,
            "visibility": null,
            "width": null
          }
        },
        "5f3b87c11ee745e1ba65f420b6455e4c": {
          "model_module": "@jupyter-widgets/controls",
          "model_name": "ProgressStyleModel",
          "model_module_version": "1.5.0",
          "state": {
            "_model_module": "@jupyter-widgets/controls",
            "_model_module_version": "1.5.0",
            "_model_name": "ProgressStyleModel",
            "_view_count": null,
            "_view_module": "@jupyter-widgets/base",
            "_view_module_version": "1.2.0",
            "_view_name": "StyleView",
            "bar_color": null,
            "description_width": ""
          }
        },
        "65acff9da13f4c8fb97f544b8d33293a": {
          "model_module": "@jupyter-widgets/base",
          "model_name": "LayoutModel",
          "model_module_version": "1.2.0",
          "state": {
            "_model_module": "@jupyter-widgets/base",
            "_model_module_version": "1.2.0",
            "_model_name": "LayoutModel",
            "_view_count": null,
            "_view_module": "@jupyter-widgets/base",
            "_view_module_version": "1.2.0",
            "_view_name": "LayoutView",
            "align_content": null,
            "align_items": null,
            "align_self": null,
            "border": null,
            "bottom": null,
            "display": null,
            "flex": null,
            "flex_flow": null,
            "grid_area": null,
            "grid_auto_columns": null,
            "grid_auto_flow": null,
            "grid_auto_rows": null,
            "grid_column": null,
            "grid_gap": null,
            "grid_row": null,
            "grid_template_areas": null,
            "grid_template_columns": null,
            "grid_template_rows": null,
            "height": null,
            "justify_content": null,
            "justify_items": null,
            "left": null,
            "margin": null,
            "max_height": null,
            "max_width": null,
            "min_height": null,
            "min_width": null,
            "object_fit": null,
            "object_position": null,
            "order": null,
            "overflow": null,
            "overflow_x": null,
            "overflow_y": null,
            "padding": null,
            "right": null,
            "top": null,
            "visibility": null,
            "width": null
          }
        },
        "d833b8bc2a5344f88d6453d7f4312fd2": {
          "model_module": "@jupyter-widgets/controls",
          "model_name": "DescriptionStyleModel",
          "model_module_version": "1.5.0",
          "state": {
            "_model_module": "@jupyter-widgets/controls",
            "_model_module_version": "1.5.0",
            "_model_name": "DescriptionStyleModel",
            "_view_count": null,
            "_view_module": "@jupyter-widgets/base",
            "_view_module_version": "1.2.0",
            "_view_name": "StyleView",
            "description_width": ""
          }
        },
        "2c5ed641083a45ed9bde98ee8678c9b4": {
          "model_module": "@jupyter-widgets/controls",
          "model_name": "HBoxModel",
          "model_module_version": "1.5.0",
          "state": {
            "_dom_classes": [],
            "_model_module": "@jupyter-widgets/controls",
            "_model_module_version": "1.5.0",
            "_model_name": "HBoxModel",
            "_view_count": null,
            "_view_module": "@jupyter-widgets/controls",
            "_view_module_version": "1.5.0",
            "_view_name": "HBoxView",
            "box_style": "",
            "children": [
              "IPY_MODEL_fa5e8648fb0240bd87bc004a0133ffca",
              "IPY_MODEL_4ab4cadd296848dcb8661747fa471034",
              "IPY_MODEL_f1755c6ce192474db0948ade4573b4fb"
            ],
            "layout": "IPY_MODEL_26bbb499943949b687c0c8f979374d2a"
          }
        },
        "fa5e8648fb0240bd87bc004a0133ffca": {
          "model_module": "@jupyter-widgets/controls",
          "model_name": "HTMLModel",
          "model_module_version": "1.5.0",
          "state": {
            "_dom_classes": [],
            "_model_module": "@jupyter-widgets/controls",
            "_model_module_version": "1.5.0",
            "_model_name": "HTMLModel",
            "_view_count": null,
            "_view_module": "@jupyter-widgets/controls",
            "_view_module_version": "1.5.0",
            "_view_name": "HTMLView",
            "description": "",
            "description_tooltip": null,
            "layout": "IPY_MODEL_ce1fa6b7551743cf88f3b5ada22d6684",
            "placeholder": "​",
            "style": "IPY_MODEL_1ccbe207bc5b441dbd3c404c79a529aa",
            "value": "model.safetensors: 100%"
          }
        },
        "4ab4cadd296848dcb8661747fa471034": {
          "model_module": "@jupyter-widgets/controls",
          "model_name": "FloatProgressModel",
          "model_module_version": "1.5.0",
          "state": {
            "_dom_classes": [],
            "_model_module": "@jupyter-widgets/controls",
            "_model_module_version": "1.5.0",
            "_model_name": "FloatProgressModel",
            "_view_count": null,
            "_view_module": "@jupyter-widgets/controls",
            "_view_module_version": "1.5.0",
            "_view_name": "ProgressView",
            "bar_style": "success",
            "description": "",
            "description_tooltip": null,
            "layout": "IPY_MODEL_909984b912a44c269238ac517d6e9720",
            "max": 440449768,
            "min": 0,
            "orientation": "horizontal",
            "style": "IPY_MODEL_4286d607b7b844c981c3f64556e59760",
            "value": 440449768
          }
        },
        "f1755c6ce192474db0948ade4573b4fb": {
          "model_module": "@jupyter-widgets/controls",
          "model_name": "HTMLModel",
          "model_module_version": "1.5.0",
          "state": {
            "_dom_classes": [],
            "_model_module": "@jupyter-widgets/controls",
            "_model_module_version": "1.5.0",
            "_model_name": "HTMLModel",
            "_view_count": null,
            "_view_module": "@jupyter-widgets/controls",
            "_view_module_version": "1.5.0",
            "_view_name": "HTMLView",
            "description": "",
            "description_tooltip": null,
            "layout": "IPY_MODEL_5ecb363766e04e9daa697806258939c7",
            "placeholder": "​",
            "style": "IPY_MODEL_409670a0a03f48f88394989a7ff5db5c",
            "value": " 440M/440M [00:01&lt;00:00, 269MB/s]"
          }
        },
        "26bbb499943949b687c0c8f979374d2a": {
          "model_module": "@jupyter-widgets/base",
          "model_name": "LayoutModel",
          "model_module_version": "1.2.0",
          "state": {
            "_model_module": "@jupyter-widgets/base",
            "_model_module_version": "1.2.0",
            "_model_name": "LayoutModel",
            "_view_count": null,
            "_view_module": "@jupyter-widgets/base",
            "_view_module_version": "1.2.0",
            "_view_name": "LayoutView",
            "align_content": null,
            "align_items": null,
            "align_self": null,
            "border": null,
            "bottom": null,
            "display": null,
            "flex": null,
            "flex_flow": null,
            "grid_area": null,
            "grid_auto_columns": null,
            "grid_auto_flow": null,
            "grid_auto_rows": null,
            "grid_column": null,
            "grid_gap": null,
            "grid_row": null,
            "grid_template_areas": null,
            "grid_template_columns": null,
            "grid_template_rows": null,
            "height": null,
            "justify_content": null,
            "justify_items": null,
            "left": null,
            "margin": null,
            "max_height": null,
            "max_width": null,
            "min_height": null,
            "min_width": null,
            "object_fit": null,
            "object_position": null,
            "order": null,
            "overflow": null,
            "overflow_x": null,
            "overflow_y": null,
            "padding": null,
            "right": null,
            "top": null,
            "visibility": null,
            "width": null
          }
        },
        "ce1fa6b7551743cf88f3b5ada22d6684": {
          "model_module": "@jupyter-widgets/base",
          "model_name": "LayoutModel",
          "model_module_version": "1.2.0",
          "state": {
            "_model_module": "@jupyter-widgets/base",
            "_model_module_version": "1.2.0",
            "_model_name": "LayoutModel",
            "_view_count": null,
            "_view_module": "@jupyter-widgets/base",
            "_view_module_version": "1.2.0",
            "_view_name": "LayoutView",
            "align_content": null,
            "align_items": null,
            "align_self": null,
            "border": null,
            "bottom": null,
            "display": null,
            "flex": null,
            "flex_flow": null,
            "grid_area": null,
            "grid_auto_columns": null,
            "grid_auto_flow": null,
            "grid_auto_rows": null,
            "grid_column": null,
            "grid_gap": null,
            "grid_row": null,
            "grid_template_areas": null,
            "grid_template_columns": null,
            "grid_template_rows": null,
            "height": null,
            "justify_content": null,
            "justify_items": null,
            "left": null,
            "margin": null,
            "max_height": null,
            "max_width": null,
            "min_height": null,
            "min_width": null,
            "object_fit": null,
            "object_position": null,
            "order": null,
            "overflow": null,
            "overflow_x": null,
            "overflow_y": null,
            "padding": null,
            "right": null,
            "top": null,
            "visibility": null,
            "width": null
          }
        },
        "1ccbe207bc5b441dbd3c404c79a529aa": {
          "model_module": "@jupyter-widgets/controls",
          "model_name": "DescriptionStyleModel",
          "model_module_version": "1.5.0",
          "state": {
            "_model_module": "@jupyter-widgets/controls",
            "_model_module_version": "1.5.0",
            "_model_name": "DescriptionStyleModel",
            "_view_count": null,
            "_view_module": "@jupyter-widgets/base",
            "_view_module_version": "1.2.0",
            "_view_name": "StyleView",
            "description_width": ""
          }
        },
        "909984b912a44c269238ac517d6e9720": {
          "model_module": "@jupyter-widgets/base",
          "model_name": "LayoutModel",
          "model_module_version": "1.2.0",
          "state": {
            "_model_module": "@jupyter-widgets/base",
            "_model_module_version": "1.2.0",
            "_model_name": "LayoutModel",
            "_view_count": null,
            "_view_module": "@jupyter-widgets/base",
            "_view_module_version": "1.2.0",
            "_view_name": "LayoutView",
            "align_content": null,
            "align_items": null,
            "align_self": null,
            "border": null,
            "bottom": null,
            "display": null,
            "flex": null,
            "flex_flow": null,
            "grid_area": null,
            "grid_auto_columns": null,
            "grid_auto_flow": null,
            "grid_auto_rows": null,
            "grid_column": null,
            "grid_gap": null,
            "grid_row": null,
            "grid_template_areas": null,
            "grid_template_columns": null,
            "grid_template_rows": null,
            "height": null,
            "justify_content": null,
            "justify_items": null,
            "left": null,
            "margin": null,
            "max_height": null,
            "max_width": null,
            "min_height": null,
            "min_width": null,
            "object_fit": null,
            "object_position": null,
            "order": null,
            "overflow": null,
            "overflow_x": null,
            "overflow_y": null,
            "padding": null,
            "right": null,
            "top": null,
            "visibility": null,
            "width": null
          }
        },
        "4286d607b7b844c981c3f64556e59760": {
          "model_module": "@jupyter-widgets/controls",
          "model_name": "ProgressStyleModel",
          "model_module_version": "1.5.0",
          "state": {
            "_model_module": "@jupyter-widgets/controls",
            "_model_module_version": "1.5.0",
            "_model_name": "ProgressStyleModel",
            "_view_count": null,
            "_view_module": "@jupyter-widgets/base",
            "_view_module_version": "1.2.0",
            "_view_name": "StyleView",
            "bar_color": null,
            "description_width": ""
          }
        },
        "5ecb363766e04e9daa697806258939c7": {
          "model_module": "@jupyter-widgets/base",
          "model_name": "LayoutModel",
          "model_module_version": "1.2.0",
          "state": {
            "_model_module": "@jupyter-widgets/base",
            "_model_module_version": "1.2.0",
            "_model_name": "LayoutModel",
            "_view_count": null,
            "_view_module": "@jupyter-widgets/base",
            "_view_module_version": "1.2.0",
            "_view_name": "LayoutView",
            "align_content": null,
            "align_items": null,
            "align_self": null,
            "border": null,
            "bottom": null,
            "display": null,
            "flex": null,
            "flex_flow": null,
            "grid_area": null,
            "grid_auto_columns": null,
            "grid_auto_flow": null,
            "grid_auto_rows": null,
            "grid_column": null,
            "grid_gap": null,
            "grid_row": null,
            "grid_template_areas": null,
            "grid_template_columns": null,
            "grid_template_rows": null,
            "height": null,
            "justify_content": null,
            "justify_items": null,
            "left": null,
            "margin": null,
            "max_height": null,
            "max_width": null,
            "min_height": null,
            "min_width": null,
            "object_fit": null,
            "object_position": null,
            "order": null,
            "overflow": null,
            "overflow_x": null,
            "overflow_y": null,
            "padding": null,
            "right": null,
            "top": null,
            "visibility": null,
            "width": null
          }
        },
        "409670a0a03f48f88394989a7ff5db5c": {
          "model_module": "@jupyter-widgets/controls",
          "model_name": "DescriptionStyleModel",
          "model_module_version": "1.5.0",
          "state": {
            "_model_module": "@jupyter-widgets/controls",
            "_model_module_version": "1.5.0",
            "_model_name": "DescriptionStyleModel",
            "_view_count": null,
            "_view_module": "@jupyter-widgets/base",
            "_view_module_version": "1.2.0",
            "_view_name": "StyleView",
            "description_width": ""
          }
        }
      }
    }
  },
  "nbformat": 4,
  "nbformat_minor": 0
}